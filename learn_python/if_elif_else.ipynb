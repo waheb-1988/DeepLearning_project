{
 "cells": [
  {
   "cell_type": "markdown",
   "id": "87e80688",
   "metadata": {},
   "source": [
    "## https://chatgpt.com/c/68666411-a54c-8007-87f8-a6504abde697"
   ]
  },
  {
   "cell_type": "markdown",
   "id": "d9af89d1",
   "metadata": {},
   "source": [
    "# Exercise 1.1: Check if a name starts with a vowel\n",
    "# Exercise 1.2: Password Strength Checker\n",
    "# Exercise 2.1: Positive, Negative, or Zero\n",
    "# Exercise 2.2: Age Group Classifier\n",
    "# Exercise 3.1: Body Temperature Checker"
   ]
  },
  {
   "cell_type": "code",
   "execution_count": 3,
   "id": "b45b68db",
   "metadata": {},
   "outputs": [
    {
     "name": "stdout",
     "output_type": "stream",
     "text": [
      "Ahmed start with vowel\n"
     ]
    }
   ],
   "source": [
    "# Exercise 1.1: Check if a name starts with a vowel\n",
    "# Create voal lis after if name[o] esisted in list\n",
    "vowels = ['a','e','i','o']\n",
    "name= \"Ahmed\"\n",
    "\n",
    "if name[0].lower() in vowels:\n",
    "    \n",
    "    print(f'{name} start with vowel')\n",
    "    \n",
    "else: \n",
    "    print(f'{name} not start with vowel')"
   ]
  },
  {
   "cell_type": "code",
   "execution_count": null,
   "id": "ebb7a96f",
   "metadata": {},
   "outputs": [
    {
     "name": "stdout",
     "output_type": "stream",
     "text": [
      " Strong password\n"
     ]
    }
   ],
   "source": [
    "# Exercise 1.2: Password Strength Checker\n",
    "\n",
    "password = 'waheb555'\n",
    "\n",
    "if len(password) >= 8 :\n",
    "    \n",
    "    print(' Strong password')\n",
    "elif len(password) >= 6 :\n",
    "    \n",
    "    print(' Moderate password')\n",
    "    \n",
    "else :\n",
    "    print(\" Weak password\")\n"
   ]
  },
  {
   "cell_type": "code",
   "execution_count": 23,
   "id": "9ba9a487",
   "metadata": {},
   "outputs": [],
   "source": [
    "import re\n",
    "\n",
    "def password_validate( password : str) -> bool :\n",
    "    \n",
    "    try : \n",
    "        if re.search(r'[A-Z]', password) is  None:\n",
    "            \n",
    "            raise ValueError(\"Password must contain at least one uppercase letter.\")\n",
    "        \n",
    "        if re.search(r'[0-9!@#$%^&*(),.?\":{}|<>]',password) is  None:\n",
    "            \n",
    "            raise ValueError(\"Password must contain at least one number or special character.\")\n",
    "            \n",
    "        return True\n",
    "    except ValueError as e:\n",
    "        print('Validation Error:', e)\n",
    "        return False\n",
    "   \n",
    "    \n",
    "  "
   ]
  },
  {
   "cell_type": "code",
   "execution_count": 26,
   "id": "eac942a5",
   "metadata": {},
   "outputs": [
    {
     "name": "stdout",
     "output_type": "stream",
     "text": [
      "Validation Error: Password must contain at least one uppercase letter.\n"
     ]
    },
    {
     "data": {
      "text/plain": [
       "False"
      ]
     },
     "execution_count": 26,
     "metadata": {},
     "output_type": "execute_result"
    }
   ],
   "source": [
    "password_validate( \"eaheb1\" )"
   ]
  }
 ],
 "metadata": {
  "kernelspec": {
   "display_name": "Python 3",
   "language": "python",
   "name": "python3"
  },
  "language_info": {
   "codemirror_mode": {
    "name": "ipython",
    "version": 3
   },
   "file_extension": ".py",
   "mimetype": "text/x-python",
   "name": "python",
   "nbconvert_exporter": "python",
   "pygments_lexer": "ipython3",
   "version": "3.12.6"
  }
 },
 "nbformat": 4,
 "nbformat_minor": 5
}
