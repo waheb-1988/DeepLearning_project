{
 "cells": [
  {
   "cell_type": "code",
   "execution_count": null,
   "id": "466059e6",
   "metadata": {},
   "outputs": [],
   "source": [
    "import pandas as pd\n",
    "import numpy as np\n",
    "from sklearn.preprocessing import LabelEncoder\n",
    "from tensorflow.keras.preprocessing.sequence import pad_sequences\n",
    "from tensorflow.keras.models import Sequential\n",
    "from tensorflow.keras.layers import Embedding, SimpleRNN, LSTM, Dense\n",
    "from sklearn.model_selection import train_test_split"
   ]
  },
  {
   "cell_type": "markdown",
   "id": "57af96dc",
   "metadata": {},
   "source": [
    "### Read data"
   ]
  },
  {
   "cell_type": "code",
   "execution_count": 11,
   "id": "7bf8c35a",
   "metadata": {},
   "outputs": [],
   "source": [
    "# import the ICU Molecular Biology (Promoter Gene Sequences) Data Set\n",
    "url = \"https://archive.ics.uci.edu/ml/machine-learning-databases/molecular-biology/promoter-gene-sequences/promoters.data\""
   ]
  },
  {
   "cell_type": "markdown",
   "id": "c5bd8fe6",
   "metadata": {},
   "source": [
    "### Data preprocessing"
   ]
  },
  {
   "cell_type": "code",
   "execution_count": 12,
   "id": "2268d6ef",
   "metadata": {},
   "outputs": [],
   "source": [
    "names = [\"Class\", \"id\", \"Sequence\"]\n",
    "data = pd.read_csv(url, names = names)"
   ]
  },
  {
   "cell_type": "code",
   "execution_count": 13,
   "id": "31f8c8a4",
   "metadata": {},
   "outputs": [
    {
     "data": {
      "text/html": [
       "<div>\n",
       "<style scoped>\n",
       "    .dataframe tbody tr th:only-of-type {\n",
       "        vertical-align: middle;\n",
       "    }\n",
       "\n",
       "    .dataframe tbody tr th {\n",
       "        vertical-align: top;\n",
       "    }\n",
       "\n",
       "    .dataframe thead th {\n",
       "        text-align: right;\n",
       "    }\n",
       "</style>\n",
       "<table border=\"1\" class=\"dataframe\">\n",
       "  <thead>\n",
       "    <tr style=\"text-align: right;\">\n",
       "      <th></th>\n",
       "      <th>Class</th>\n",
       "      <th>id</th>\n",
       "      <th>Sequence</th>\n",
       "    </tr>\n",
       "  </thead>\n",
       "  <tbody>\n",
       "    <tr>\n",
       "      <th>0</th>\n",
       "      <td>+</td>\n",
       "      <td>S10</td>\n",
       "      <td>\\t\\ttactagcaatacgcttgcgttcggtggttaagtatgtataat...</td>\n",
       "    </tr>\n",
       "    <tr>\n",
       "      <th>1</th>\n",
       "      <td>+</td>\n",
       "      <td>AMPC</td>\n",
       "      <td>\\t\\ttgctatcctgacagttgtcacgctgattggtgtcgttacaat...</td>\n",
       "    </tr>\n",
       "    <tr>\n",
       "      <th>2</th>\n",
       "      <td>+</td>\n",
       "      <td>AROH</td>\n",
       "      <td>\\t\\tgtactagagaactagtgcattagcttatttttttgttatcat...</td>\n",
       "    </tr>\n",
       "    <tr>\n",
       "      <th>3</th>\n",
       "      <td>+</td>\n",
       "      <td>DEOP2</td>\n",
       "      <td>\\taattgtgatgtgtatcgaagtgtgttgcggagtagatgttagaa...</td>\n",
       "    </tr>\n",
       "    <tr>\n",
       "      <th>4</th>\n",
       "      <td>+</td>\n",
       "      <td>LEU1_TRNA</td>\n",
       "      <td>\\ttcgataattaactattgacgaaaagctgaaaaccactagaatgc...</td>\n",
       "    </tr>\n",
       "  </tbody>\n",
       "</table>\n",
       "</div>"
      ],
      "text/plain": [
       "  Class         id                                           Sequence\n",
       "0     +        S10  \\t\\ttactagcaatacgcttgcgttcggtggttaagtatgtataat...\n",
       "1     +       AMPC  \\t\\ttgctatcctgacagttgtcacgctgattggtgtcgttacaat...\n",
       "2     +       AROH  \\t\\tgtactagagaactagtgcattagcttatttttttgttatcat...\n",
       "3     +      DEOP2  \\taattgtgatgtgtatcgaagtgtgttgcggagtagatgttagaa...\n",
       "4     +  LEU1_TRNA  \\ttcgataattaactattgacgaaaagctgaaaaccactagaatgc..."
      ]
     },
     "execution_count": 13,
     "metadata": {},
     "output_type": "execute_result"
    }
   ],
   "source": [
    "data.head(5)"
   ]
  },
  {
   "cell_type": "code",
   "execution_count": 14,
   "id": "320839d7",
   "metadata": {},
   "outputs": [
    {
     "name": "stdout",
     "output_type": "stream",
     "text": [
      "<class 'pandas.core.frame.DataFrame'>\n",
      "RangeIndex: 106 entries, 0 to 105\n",
      "Data columns (total 3 columns):\n",
      " #   Column    Non-Null Count  Dtype \n",
      "---  ------    --------------  ----- \n",
      " 0   Class     106 non-null    object\n",
      " 1   id        106 non-null    object\n",
      " 2   Sequence  106 non-null    object\n",
      "dtypes: object(3)\n",
      "memory usage: 2.6+ KB\n"
     ]
    }
   ],
   "source": [
    "data.info()"
   ]
  },
  {
   "cell_type": "code",
   "execution_count": 7,
   "id": "5263c2b5",
   "metadata": {},
   "outputs": [],
   "source": [
    "# Building our Dataset by creating a custom Pandas Dataframe\n",
    "# Each column in a Dataframe is called a Series. \n",
    "classes = data.loc[:,\"Class\"].unique()"
   ]
  },
  {
   "cell_type": "code",
   "execution_count": 8,
   "id": "045e91c6",
   "metadata": {},
   "outputs": [
    {
     "data": {
      "text/plain": [
       "array(['+', '-'], dtype=object)"
      ]
     },
     "execution_count": 8,
     "metadata": {},
     "output_type": "execute_result"
    }
   ],
   "source": [
    "classes"
   ]
  },
  {
   "cell_type": "code",
   "execution_count": 9,
   "id": "99fa8ccb",
   "metadata": {},
   "outputs": [
    {
     "data": {
      "text/html": [
       "<div>\n",
       "<style scoped>\n",
       "    .dataframe tbody tr th:only-of-type {\n",
       "        vertical-align: middle;\n",
       "    }\n",
       "\n",
       "    .dataframe tbody tr th {\n",
       "        vertical-align: top;\n",
       "    }\n",
       "\n",
       "    .dataframe thead th {\n",
       "        text-align: right;\n",
       "    }\n",
       "</style>\n",
       "<table border=\"1\" class=\"dataframe\">\n",
       "  <thead>\n",
       "    <tr style=\"text-align: right;\">\n",
       "      <th></th>\n",
       "      <th>id</th>\n",
       "      <th>Sequence</th>\n",
       "    </tr>\n",
       "    <tr>\n",
       "      <th>Class</th>\n",
       "      <th></th>\n",
       "      <th></th>\n",
       "    </tr>\n",
       "  </thead>\n",
       "  <tbody>\n",
       "    <tr>\n",
       "      <th>+</th>\n",
       "      <td>53</td>\n",
       "      <td>53</td>\n",
       "    </tr>\n",
       "    <tr>\n",
       "      <th>-</th>\n",
       "      <td>53</td>\n",
       "      <td>53</td>\n",
       "    </tr>\n",
       "  </tbody>\n",
       "</table>\n",
       "</div>"
      ],
      "text/plain": [
       "       id  Sequence\n",
       "Class              \n",
       "+      53        53\n",
       "-      53        53"
      ]
     },
     "execution_count": 9,
     "metadata": {},
     "output_type": "execute_result"
    }
   ],
   "source": [
    "data.groupby('Class').count()"
   ]
  },
  {
   "cell_type": "markdown",
   "id": "2851b275",
   "metadata": {},
   "source": [
    "### WordMap analysis"
   ]
  },
  {
   "cell_type": "code",
   "execution_count": null,
   "id": "bb3afa65",
   "metadata": {},
   "outputs": [],
   "source": [
    "#! pip install wordcloud"
   ]
  },
  {
   "cell_type": "code",
   "execution_count": 15,
   "id": "37538be7",
   "metadata": {},
   "outputs": [
    {
     "name": "stderr",
     "output_type": "stream",
     "text": [
      "[nltk_data] Downloading package stopwords to C:\\Users\\ASUS\n",
      "[nltk_data]     TUF\\AppData\\Roaming\\nltk_data...\n",
      "[nltk_data]   Package stopwords is already up-to-date!\n",
      "[nltk_data] Downloading package wordnet to C:\\Users\\ASUS\n",
      "[nltk_data]     TUF\\AppData\\Roaming\\nltk_data...\n",
      "[nltk_data]   Package wordnet is already up-to-date!\n",
      "[nltk_data] Downloading package omw-1.4 to C:\\Users\\ASUS\n",
      "[nltk_data]     TUF\\AppData\\Roaming\\nltk_data...\n",
      "[nltk_data]   Package omw-1.4 is already up-to-date!\n"
     ]
    },
    {
     "data": {
      "text/plain": [
       "True"
      ]
     },
     "execution_count": 15,
     "metadata": {},
     "output_type": "execute_result"
    }
   ],
   "source": [
    "import nltk\n",
    "from nltk.corpus import stopwords\n",
    "from nltk.stem import WordNetLemmatizer \n",
    "from wordcloud import WordCloud\n",
    "import re\n",
    "nltk.download('stopwords')\n",
    "nltk.download('wordnet')\n",
    "nltk.download('omw-1.4')"
   ]
  },
  {
   "cell_type": "code",
   "execution_count": 16,
   "id": "c1d0cf80",
   "metadata": {},
   "outputs": [
    {
     "data": {
      "text/plain": [
       "array(['+', '-'], dtype=object)"
      ]
     },
     "execution_count": 16,
     "metadata": {},
     "output_type": "execute_result"
    }
   ],
   "source": [
    "data['Class'].unique()"
   ]
  },
  {
   "cell_type": "code",
   "execution_count": 28,
   "id": "41ad4d1a",
   "metadata": {},
   "outputs": [],
   "source": [
    "lm= WordNetLemmatizer()\n",
    "\n",
    "def text_transformation(data: pd.DataFrame) -> list:\n",
    "        corpus = []\n",
    "        for item in data:\n",
    "            new_item = re.sub('[^a-zA-Z]',' ',str(item))\n",
    "            new_item = new_item.lower()\n",
    "            new_item = new_item.split()\n",
    "            new_item = [lm.lemmatize(word) for word in new_item if word not in set(stopwords.words('english'))]\n",
    "            corpus.append(' '.join(str(x) for x in new_item))\n",
    "        return corpus\n",
    "\n",
    "def word_cloud_generate(classes : str) -> plt:\n",
    "    df_test= data[data['Class']==classes][['Sequence']]\n",
    "    df_test['Sequence']= df_test['Sequence'].astype(str)\n",
    "    df_test['Sequence']= df_test['Sequence'].str.lower()\n",
    "    corpus = text_transformation(df_test['Sequence'])\n",
    "    word_cloud = ''\n",
    "    for row in corpus :\n",
    "        for word in row:\n",
    "            word_cloud += \"\".join(word)\n",
    "    wordcloud = WordCloud(width = 1000, height = 500,background_color ='white',min_font_size = 10).generate(word_cloud)\n",
    "    \n",
    "    return wordcloud"
   ]
  },
  {
   "cell_type": "code",
   "execution_count": 29,
   "id": "f298ee9f",
   "metadata": {},
   "outputs": [
    {
     "data": {
      "image/png": "[encoded data removed]",
      "text/plain": [
       "<Figure size 1200x600 with 2 Axes>"
      ]
     },
     "metadata": {},
     "output_type": "display_data"
    }
   ],
   "source": [
    "# Get unique categories\n",
    "classes = data['Class'].unique()\n",
    "n = len(classes)\n",
    "\n",
    "# Set up subplots grid (auto-adjusted rows/cols)\n",
    "cols = 2\n",
    "rows = (n + 1) // cols\n",
    "\n",
    "fig, axes = plt.subplots(rows, cols, figsize=(12, 6 * rows))\n",
    "axes = axes.flatten()  # flatten in case of 1D row\n",
    "\n",
    "for i, cat in enumerate(classes):\n",
    "    wc = word_cloud_generate(cat)\n",
    "    axes[i].imshow(wc, interpolation='bilinear')\n",
    "    axes[i].set_title(f\"Category: {cat}\", fontsize=14)\n",
    "    axes[i].axis('off')\n",
    "\n",
    "# Hide any unused subplots\n",
    "for j in range(i + 1, len(axes)):\n",
    "    axes[j].axis('off')\n",
    "\n",
    "plt.tight_layout()\n",
    "plt.show()"
   ]
  },
  {
   "cell_type": "code",
   "execution_count": 65,
   "id": "c8a6cc75",
   "metadata": {},
   "outputs": [],
   "source": [
    "# === Clean DNA sequences\n",
    "def clean_sequence(seq):\n",
    "    return ''.join(seq.strip().replace('\\t', '').lower())\n",
    "\n",
    "data['Sequence'] = data['Sequence'].apply(clean_sequence)\n",
    "\n",
    "# === Define DNA vocabulary\n",
    "vocab = {'a': 1, 't': 2, 'c': 3, 'g': 4, 'n': 5}\n",
    "vocab_size = len(vocab) + 1  # 0 for padding\n",
    "\n",
    "# === Encode sequences\n",
    "def encode_sequence(seq):\n",
    "    return [vocab.get(char, 0) for char in seq]"
   ]
  },
  {
   "cell_type": "code",
   "execution_count": 66,
   "id": "8ff9b4fb",
   "metadata": {},
   "outputs": [],
   "source": [
    "data['encoded'] = data['Sequence'].apply(encode_sequence)\n",
    "X = pad_sequences(data['encoded'], padding='post')\n",
    "\n",
    "# === Encode class labels: '+' -> 1, '-' -> 0\n",
    "data['Class'] = data['Class'].map({'+': 1, '-': 0})\n",
    "y = np.array(data['Class'])"
   ]
  },
  {
   "cell_type": "code",
   "execution_count": 68,
   "id": "fa0a758e",
   "metadata": {},
   "outputs": [],
   "source": [
    "# === Train-test split\n",
    "X_train, X_test, y_train, y_test = train_test_split(X, y, test_size=0.2, random_state=42)\n",
    "\n",
    "# === RNN Model\n",
    "def build_rnn_model(input_length, vocab_size):\n",
    "    model = Sequential([\n",
    "        Embedding(input_dim=vocab_size, output_dim=16, input_length=input_length),\n",
    "        SimpleRNN(64),\n",
    "        Dense(1, activation='sigmoid')\n",
    "    ])\n",
    "    model.compile(loss='binary_crossentropy', optimizer='adam', metrics=['accuracy'])\n",
    "    return model"
   ]
  },
  {
   "cell_type": "code",
   "execution_count": 69,
   "id": "b6c5c494",
   "metadata": {},
   "outputs": [],
   "source": [
    "# === LSTM Model\n",
    "def build_lstm_model(input_length, vocab_size):\n",
    "    model = Sequential([\n",
    "        Embedding(input_dim=vocab_size, output_dim=16, input_length=input_length),\n",
    "        LSTM(64),\n",
    "        Dense(1, activation='sigmoid')\n",
    "    ])\n",
    "    model.compile(loss='binary_crossentropy', optimizer='adam', metrics=['accuracy'])\n",
    "    return model"
   ]
  },
  {
   "cell_type": "code",
   "execution_count": 70,
   "id": "62b84df7",
   "metadata": {},
   "outputs": [
    {
     "name": "stdout",
     "output_type": "stream",
     "text": [
      "Training RNN model...\n",
      "Epoch 1/10\n"
     ]
    },
    {
     "name": "stderr",
     "output_type": "stream",
     "text": [
      "C:\\Users\\ASUS TUF\\AppData\\Roaming\\Python\\Python312\\site-packages\\keras\\src\\layers\\core\\embedding.py:90: UserWarning: Argument `input_length` is deprecated. Just remove it.\n",
      "  warnings.warn(\n"
     ]
    },
    {
     "name": "stdout",
     "output_type": "stream",
     "text": [
      "\u001b[1m3/3\u001b[0m \u001b[32m━━━━━━━━━━━━━━━━━━━━\u001b[0m\u001b[37m\u001b[0m \u001b[1m2s\u001b[0m 142ms/step - accuracy: 0.4825 - loss: 0.6939 - val_accuracy: 0.6364 - val_loss: 0.6464\n",
      "Epoch 2/10\n",
      "\u001b[1m3/3\u001b[0m \u001b[32m━━━━━━━━━━━━━━━━━━━━\u001b[0m\u001b[37m\u001b[0m \u001b[1m0s\u001b[0m 19ms/step - accuracy: 0.8190 - loss: 0.6155 - val_accuracy: 0.6818 - val_loss: 0.6054\n",
      "Epoch 3/10\n",
      "\u001b[1m3/3\u001b[0m \u001b[32m━━━━━━━━━━━━━━━━━━━━\u001b[0m\u001b[37m\u001b[0m \u001b[1m0s\u001b[0m 20ms/step - accuracy: 0.8069 - loss: 0.5494 - val_accuracy: 0.6364 - val_loss: 0.5971\n",
      "Epoch 4/10\n",
      "\u001b[1m3/3\u001b[0m \u001b[32m━━━━━━━━━━━━━━━━━━━━\u001b[0m\u001b[37m\u001b[0m \u001b[1m0s\u001b[0m 19ms/step - accuracy: 0.7913 - loss: 0.5412 - val_accuracy: 0.5909 - val_loss: 0.6062\n",
      "Epoch 5/10\n",
      "\u001b[1m3/3\u001b[0m \u001b[32m━━━━━━━━━━━━━━━━━━━━\u001b[0m\u001b[37m\u001b[0m \u001b[1m0s\u001b[0m 20ms/step - accuracy: 0.7814 - loss: 0.5137 - val_accuracy: 0.7273 - val_loss: 0.5944\n",
      "Epoch 6/10\n",
      "\u001b[1m3/3\u001b[0m \u001b[32m━━━━━━━━━━━━━━━━━━━━\u001b[0m\u001b[37m\u001b[0m \u001b[1m0s\u001b[0m 21ms/step - accuracy: 0.8462 - loss: 0.4744 - val_accuracy: 0.6364 - val_loss: 0.5650\n",
      "Epoch 7/10\n",
      "\u001b[1m3/3\u001b[0m \u001b[32m━━━━━━━━━━━━━━━━━━━━\u001b[0m\u001b[37m\u001b[0m \u001b[1m0s\u001b[0m 24ms/step - accuracy: 0.8328 - loss: 0.4728 - val_accuracy: 0.7727 - val_loss: 0.5424\n",
      "Epoch 8/10\n",
      "\u001b[1m3/3\u001b[0m \u001b[32m━━━━━━━━━━━━━━━━━━━━\u001b[0m\u001b[37m\u001b[0m \u001b[1m0s\u001b[0m 23ms/step - accuracy: 0.8917 - loss: 0.4327 - val_accuracy: 0.7727 - val_loss: 0.5186\n",
      "Epoch 9/10\n",
      "\u001b[1m3/3\u001b[0m \u001b[32m━━━━━━━━━━━━━━━━━━━━\u001b[0m\u001b[37m\u001b[0m \u001b[1m0s\u001b[0m 22ms/step - accuracy: 0.8406 - loss: 0.4452 - val_accuracy: 0.6818 - val_loss: 0.5709\n",
      "Epoch 10/10\n",
      "\u001b[1m3/3\u001b[0m \u001b[32m━━━━━━━━━━━━━━━━━━━━\u001b[0m\u001b[37m\u001b[0m \u001b[1m0s\u001b[0m 20ms/step - accuracy: 0.8681 - loss: 0.4196 - val_accuracy: 0.5909 - val_loss: 0.6158\n",
      "Training LSTM model...\n",
      "Epoch 1/10\n",
      "\u001b[1m3/3\u001b[0m \u001b[32m━━━━━━━━━━━━━━━━━━━━\u001b[0m\u001b[37m\u001b[0m \u001b[1m2s\u001b[0m 137ms/step - accuracy: 0.5312 - loss: 0.6934 - val_accuracy: 0.5000 - val_loss: 0.6932\n",
      "Epoch 2/10\n",
      "\u001b[1m3/3\u001b[0m \u001b[32m━━━━━━━━━━━━━━━━━━━━\u001b[0m\u001b[37m\u001b[0m \u001b[1m0s\u001b[0m 40ms/step - accuracy: 0.5312 - loss: 0.6918 - val_accuracy: 0.5000 - val_loss: 0.6931\n",
      "Epoch 3/10\n",
      "\u001b[1m3/3\u001b[0m \u001b[32m━━━━━━━━━━━━━━━━━━━━\u001b[0m\u001b[37m\u001b[0m \u001b[1m0s\u001b[0m 30ms/step - accuracy: 0.4922 - loss: 0.6929 - val_accuracy: 0.5000 - val_loss: 0.6930\n",
      "Epoch 4/10\n",
      "\u001b[1m3/3\u001b[0m \u001b[32m━━━━━━━━━━━━━━━━━━━━\u001b[0m\u001b[37m\u001b[0m \u001b[1m0s\u001b[0m 31ms/step - accuracy: 0.5355 - loss: 0.6921 - val_accuracy: 0.5000 - val_loss: 0.6930\n",
      "Epoch 5/10\n",
      "\u001b[1m3/3\u001b[0m \u001b[32m━━━━━━━━━━━━━━━━━━━━\u001b[0m\u001b[37m\u001b[0m \u001b[1m0s\u001b[0m 32ms/step - accuracy: 0.5649 - loss: 0.6924 - val_accuracy: 0.5000 - val_loss: 0.6929\n",
      "Epoch 6/10\n",
      "\u001b[1m3/3\u001b[0m \u001b[32m━━━━━━━━━━━━━━━━━━━━\u001b[0m\u001b[37m\u001b[0m \u001b[1m0s\u001b[0m 51ms/step - accuracy: 0.5750 - loss: 0.6915 - val_accuracy: 0.5000 - val_loss: 0.6929\n",
      "Epoch 7/10\n",
      "\u001b[1m3/3\u001b[0m \u001b[32m━━━━━━━━━━━━━━━━━━━━\u001b[0m\u001b[37m\u001b[0m \u001b[1m0s\u001b[0m 46ms/step - accuracy: 0.5962 - loss: 0.6902 - val_accuracy: 0.4545 - val_loss: 0.6927\n",
      "Epoch 8/10\n",
      "\u001b[1m3/3\u001b[0m \u001b[32m━━━━━━━━━━━━━━━━━━━━\u001b[0m\u001b[37m\u001b[0m \u001b[1m0s\u001b[0m 27ms/step - accuracy: 0.5750 - loss: 0.6900 - val_accuracy: 0.4545 - val_loss: 0.6922\n",
      "Epoch 9/10\n",
      "\u001b[1m3/3\u001b[0m \u001b[32m━━━━━━━━━━━━━━━━━━━━\u001b[0m\u001b[37m\u001b[0m \u001b[1m0s\u001b[0m 27ms/step - accuracy: 0.6453 - loss: 0.6863 - val_accuracy: 0.4545 - val_loss: 0.6910\n",
      "Epoch 10/10\n",
      "\u001b[1m3/3\u001b[0m \u001b[32m━━━━━━━━━━━━━━━━━━━━\u001b[0m\u001b[37m\u001b[0m \u001b[1m0s\u001b[0m 27ms/step - accuracy: 0.6261 - loss: 0.6849 - val_accuracy: 0.6364 - val_loss: 0.6885\n",
      "\u001b[1m1/1\u001b[0m \u001b[32m━━━━━━━━━━━━━━━━━━━━\u001b[0m\u001b[37m\u001b[0m \u001b[1m0s\u001b[0m 122ms/step\n",
      "\u001b[1m1/1\u001b[0m \u001b[32m━━━━━━━━━━━━━━━━━━━━\u001b[0m\u001b[37m\u001b[0m \u001b[1m0s\u001b[0m 140ms/step\n",
      "Original Sequence: tactagcaatacgcttgcgttcggtggttaagtatgtataatgcgcgggcttgtcgt\n",
      "RNN Prediction Score: 0.5477518 Class: +\n",
      "LSTM Prediction Score: 0.47834304 Class: -\n"
     ]
    }
   ],
   "source": [
    "input_length = X.shape[1]\n",
    "\n",
    "# === Train RNN\n",
    "print(\"Training RNN model...\")\n",
    "rnn_model = build_rnn_model(input_length, vocab_size)\n",
    "rnn_model.fit(X_train, y_train, epochs=10, validation_data=(X_test, y_test), verbose=1)\n",
    "\n",
    "# === Train LSTM\n",
    "print(\"Training LSTM model...\")\n",
    "lstm_model = build_lstm_model(input_length, vocab_size)\n",
    "lstm_model.fit(X_train, y_train, epochs=10, validation_data=(X_test, y_test), verbose=1)\n",
    "\n",
    "# === Predict Class (+ or -)\n",
    "def preprocess_sequence(seq, max_len):\n",
    "    seq = clean_sequence(seq)\n",
    "    encoded = encode_sequence(seq)\n",
    "    padded = pad_sequences([encoded], maxlen=max_len, padding='post')\n",
    "    return padded\n",
    "\n",
    "sample_seq = data['Sequence'].iloc[0]\n",
    "x_input = preprocess_sequence(sample_seq, input_length)\n",
    "\n",
    "# === Predict with RNN\n",
    "rnn_pred = rnn_model.predict(x_input)[0][0]\n",
    "rnn_class = '+' if rnn_pred >= 0.5 else '-'\n",
    "\n",
    "# === Predict with LSTM\n",
    "lstm_pred = lstm_model.predict(x_input)[0][0]\n",
    "lstm_class = '+' if lstm_pred >= 0.5 else '-'\n",
    "\n",
    "print(\"Original Sequence:\", sample_seq)\n",
    "print(\"RNN Prediction Score:\", rnn_pred, \"Class:\", rnn_class)\n",
    "print(\"LSTM Prediction Score:\", lstm_pred, \"Class:\", lstm_class)"
   ]
  },
  {
   "cell_type": "markdown",
   "id": "41bc0c5e",
   "metadata": {},
   "source": [
    "### LSTM "
   ]
  },
  {
   "cell_type": "markdown",
   "id": "61186bbc",
   "metadata": {},
   "source": [
    "#### Data structure"
   ]
  },
  {
   "cell_type": "code",
   "execution_count": 30,
   "id": "feca4a6d",
   "metadata": {},
   "outputs": [],
   "source": [
    "vpcap_size = 1000\n",
    "dim = 16\n",
    "max_length = 120\n",
    "trunc_type = 'post'\n",
    "padding_type = 'post'\n",
    "oov_tok = '<OOV>'\n",
    "training_portion = .8"
   ]
  },
  {
   "cell_type": "code",
   "execution_count": 31,
   "id": "365d150e",
   "metadata": {},
   "outputs": [
    {
     "name": "stdout",
     "output_type": "stream",
     "text": [
      "<class 'pandas.core.frame.DataFrame'>\n",
      "RangeIndex: 106 entries, 0 to 105\n",
      "Data columns (total 3 columns):\n",
      " #   Column    Non-Null Count  Dtype \n",
      "---  ------    --------------  ----- \n",
      " 0   Class     106 non-null    object\n",
      " 1   id        106 non-null    object\n",
      " 2   Sequence  106 non-null    object\n",
      "dtypes: object(3)\n",
      "memory usage: 2.6+ KB\n"
     ]
    }
   ],
   "source": [
    "data.info()"
   ]
  },
  {
   "cell_type": "code",
   "execution_count": 32,
   "id": "870b08ae",
   "metadata": {},
   "outputs": [],
   "source": [
    "stop_words = set(stopwords.words('english'))\n",
    "sentences = []\n",
    "labels = []\n",
    "\n",
    "def df_remove_stopwords(text: str) -> str:\n",
    "    \n",
    "    for word in stop_words:\n",
    "        token= ' '+ word + ' '\n",
    "        text = text.replace(token,' ')\n",
    "    return text\n",
    "\n",
    "labels = data['Class'].to_list()\n",
    "sentences = data['Sequence'].astype(str).apply(df_remove_stopwords).to_list()\n",
    "    "
   ]
  },
  {
   "cell_type": "code",
   "execution_count": 33,
   "id": "332ebe5c",
   "metadata": {},
   "outputs": [
    {
     "data": {
      "text/plain": [
       "106"
      ]
     },
     "execution_count": 33,
     "metadata": {},
     "output_type": "execute_result"
    }
   ],
   "source": [
    "len(labels)\n",
    "len(sentences)"
   ]
  },
  {
   "cell_type": "code",
   "execution_count": 34,
   "id": "e50a2404",
   "metadata": {},
   "outputs": [
    {
     "data": {
      "text/plain": [
       "['+',\n",
       " '+',\n",
       " '+',\n",
       " '+',\n",
       " '+',\n",
       " '+',\n",
       " '+',\n",
       " '+',\n",
       " '+',\n",
       " '+',\n",
       " '+',\n",
       " '+',\n",
       " '+',\n",
       " '+',\n",
       " '+',\n",
       " '+',\n",
       " '+',\n",
       " '+',\n",
       " '+',\n",
       " '+',\n",
       " '+',\n",
       " '+',\n",
       " '+',\n",
       " '+',\n",
       " '+',\n",
       " '+',\n",
       " '+',\n",
       " '+',\n",
       " '+',\n",
       " '+',\n",
       " '+',\n",
       " '+',\n",
       " '+',\n",
       " '+',\n",
       " '+',\n",
       " '+',\n",
       " '+',\n",
       " '+',\n",
       " '+',\n",
       " '+',\n",
       " '+',\n",
       " '+',\n",
       " '+',\n",
       " '+',\n",
       " '+',\n",
       " '+',\n",
       " '+',\n",
       " '+',\n",
       " '+',\n",
       " '+',\n",
       " '+',\n",
       " '+',\n",
       " '+',\n",
       " '-',\n",
       " '-',\n",
       " '-',\n",
       " '-',\n",
       " '-',\n",
       " '-',\n",
       " '-',\n",
       " '-',\n",
       " '-',\n",
       " '-',\n",
       " '-',\n",
       " '-',\n",
       " '-',\n",
       " '-',\n",
       " '-',\n",
       " '-',\n",
       " '-',\n",
       " '-',\n",
       " '-',\n",
       " '-',\n",
       " '-',\n",
       " '-',\n",
       " '-',\n",
       " '-',\n",
       " '-',\n",
       " '-',\n",
       " '-',\n",
       " '-',\n",
       " '-',\n",
       " '-',\n",
       " '-',\n",
       " '-',\n",
       " '-',\n",
       " '-',\n",
       " '-',\n",
       " '-',\n",
       " '-',\n",
       " '-',\n",
       " '-',\n",
       " '-',\n",
       " '-',\n",
       " '-',\n",
       " '-',\n",
       " '-',\n",
       " '-',\n",
       " '-',\n",
       " '-',\n",
       " '-',\n",
       " '-',\n",
       " '-',\n",
       " '-',\n",
       " '-',\n",
       " '-']"
      ]
     },
     "execution_count": 34,
     "metadata": {},
     "output_type": "execute_result"
    }
   ],
   "source": [
    "labels"
   ]
  },
  {
   "cell_type": "code",
   "execution_count": 35,
   "id": "9856ec00",
   "metadata": {},
   "outputs": [
    {
     "data": {
      "text/plain": [
       "['\\t\\ttactagcaatacgcttgcgttcggtggttaagtatgtataatgcgcgggcttgtcgt',\n",
       " '\\t\\ttgctatcctgacagttgtcacgctgattggtgtcgttacaatctaacgcatcgccaa',\n",
       " '\\t\\tgtactagagaactagtgcattagcttatttttttgttatcatgctaaccacccggcg',\n",
       " '\\taattgtgatgtgtatcgaagtgtgttgcggagtagatgttagaatactaacaaactc',\n",
       " '\\ttcgataattaactattgacgaaaagctgaaaaccactagaatgcgcctccgtggtag',\n",
       " '\\taggggcaaggaggatggaaagaggttgccgtataaagaaactagagtccgtttaggt',\n",
       " '\\t\\tcagggggtggaggatttaagccatctcctgatgacgcatagtcagcccatcatgaat',\n",
       " '\\t\\ttttctacaaaacacttgatactgtatgagcatacagtataattgcttcaacagaaca',\n",
       " '\\t\\tcgacttaatatactgcgacaggacgtccgttctgtgtaaatcgcaatgaaatggttt',\n",
       " '\\tttttaaatttcctcttgtcaggccggaataactccctataatgcgccaccactgaca',\n",
       " '\\tgcaaaaataaatgcttgactctgtagcgggaaggcgtattatgcacaccccgcgccg',\n",
       " '\\tcctgaaattcagggttgactctgaaagaggaaagcgtaatatacgccacctcgcgac',\n",
       " '\\tgatcaaaaaaatacttgtgcaaaaaattgggatccctataatgcgcctccgttgaga',\n",
       " '\\tctgcaatttttctattgcggcctgcggagaactccctataatgcgcctccatcgaca',\n",
       " '\\ttttatatttttcgcttgtcaggccggaataactccctataatgcgccaccactgaca',\n",
       " '\\taagcaaagaaatgcttgactctgtagcgggaaggcgtattatgcacaccgccgcgcc',\n",
       " '\\tatgcatttttccgcttgtcttcctgagccgactccctataatgcgcctccatcgaca',\n",
       " '\\t\\taaacaatttcagaatagacaaaaactctgagtgtaataatgtagcctcgtgtcttgc',\n",
       " '\\t\\ttctcaacgtaacactttacagcggcgcgtcatttgatatgatgcgccccgcttcccg',\n",
       " '\\t\\tgcaaataatcaatgtggacttttctgccgtgattatagacacttttgttacgcgttt',\n",
       " '\\t\\tgacaccatcgaatggcgcaaaacctttcgcggtatggcatgatagcgcccggaagag',\n",
       " '\\t\\taaaaacgtcatcgcttgcattagaaaggtttctggccgaccttataaccattaatta',\n",
       " '\\t\\ttctgaaatgagctgttgacaattaatcatcgaactagttaactagtacgcaagttca',\n",
       " '\\taccggaagaaaaccgtgacattttaacacgtttgttacaaggtaaaggcgacgccgc',\n",
       " '\\t\\taaattaaaattttattgacttaggtcactaaatactttaaccaatataggcatagcg',\n",
       " '\\t\\tttgtcataatcgacttgtaaaccaaattgaaaagatttaggtttacaagtctacacc',\n",
       " '\\t\\tcatcctcgcaccagtcgacgacggtttacgctttacgtatagtggcgacaatttttt',\n",
       " '\\ttccagtataatttgttggcataattaagtacgacgagtaaaattacatacctgcccg',\n",
       " '\\tacagttatccactattcctgtggataaccatgtgtattagagttagaaaacacgagg',\n",
       " '\\t\\ttgtgcagtttatggttccaaaatcgccttttgctgtatatactcacagcataactgt',\n",
       " '\\tctgttgttcagtttttgagttgtgtataacccctcattctgatcccagcttatacgg',\n",
       " '\\tattacaaaaagtgctttctgaactgaacaaaaaagagtaaagttagtcgcgtagggt',\n",
       " '\\tatgcgcaacgcggggtgacaagggcgcgcaaaccctctatactgcgcgccgaagctg',\n",
       " '\\t\\ttaaaaaactaacagttgtcagcctgtcccgcttataagatcatacgccgttatacgt',\n",
       " '\\t\\tatgcaattttttagttgcatgaactcgcatgtctccatagaatgcgcgctacttgat',\n",
       " '\\tccttgaaaaagaggttgacgctgcaaggctctatacgcataatgcgccccgcaacgc',\n",
       " '\\t\\ttcgttgtatatttcttgacaccttttcggcatcgccctaaaattcggcgtcctcata',\n",
       " '\\t\\tccgtttattttttctacccatatccttgaagcggtgttataatgccgcgccctcgat',\n",
       " '\\t\\tttcgcatatttttcttgcaaagttgggttgagctggctagattagccagccaatctt',\n",
       " '\\t\\ttgtaaactaatgcctttacgtgggcggtgattttgtctacaatcttacccccacgta',\n",
       " '\\tgatcgcacgatctgtatacttatttgagtaaattaacccacgatcccagccattctt',\n",
       " '\\t\\taacgcatacggtattttaccttcccagtcaagaaaacttatcttattcccacttttc',\n",
       " '\\tttagcggatcctacctgacgctttttatcgcaactctctactgtttctccatacccg',\n",
       " '\\t\\tgccttctccaaaacgtgttttttgttgttaattcggtgtagacttgtaaacctaaat',\n",
       " '\\tcagaaacgttttattcgaacatcgatctcgtcttgtgttagaattctaacatacggt',\n",
       " '\\tcactaatttattccatgtcacacttttcgcatctttgttatgctatggttatttcat',\n",
       " '\\t\\tatataaaaaagttcttgctttctaacgtgaaagtggtttaggttaaaagacatcagt',\n",
       " '\\t\\tcaaggtagaatgctttgccttgtcggcctgattaatggcacgatagtcgcatcggat',\n",
       " '\\tggccaaaaaatatcttgtactatttacaaaacctatggtaactctttaggcattcct',\n",
       " '\\ttaggcaccccaggctttacactttatgcttccggctcgtatgttgtgtggaattgtg',\n",
       " '\\t\\tccatcaaaaaaatattctcaacataaaaaactttgtgtaatacttgtaacgctacat',\n",
       " '\\t\\ttggggacgtcgttactgatccgcacgtttatgatatgctatcgtactctttagcgag',\n",
       " '\\ttcagaaatattatggtgatgaactgtttttttatccagtataatttgttggcataat',\n",
       " '\\t\\tatatgaacgttgagactgccgctgagttatcagctgtgaacgacattctggcgtcta',\n",
       " '\\t\\tcgaacgagtcaatcagaccgctttgactctggtattactgtgaacattattcgtctc',\n",
       " '\\t\\tcaatggcctctaaacgggtcttgaggggttttttgctgaaaggaggaactatatgcg',\n",
       " '\\t\\tttgacctactacgccagcattttggcggtgtaagctaaccattccggttgactcaat',\n",
       " '\\t\\tcgtctatcggtgaacctccggtatcaacgctggaaggtgacgctaacgcagatgcag',\n",
       " '\\t\\tgccaatcaatcaagaacttgaagggtggtatcagccaacagcctgacatccttcgtt',\n",
       " '\\t\\ttggatggacgttcaacattgaggaaggcataacgctactacctgatgtttactccaa',\n",
       " '\\t\\tgaggtggctatgtgtatgaccgaacgagtcaatcagaccgctttgactctggtatta',\n",
       " '\\t\\tcgtagcgcatcagtgctttcttactgtgagtacgcaccagcgccagaggacgacgac',\n",
       " '\\t\\tcgaccgaagcgagcctcgtcctcaatggcctctaaacgggtcttgaggggttttttg',\n",
       " '\\t\\tctacggtgggtacaatatgctggatggagatgcgttcacttctggtctactgactcg',\n",
       " '\\t\\tatagtctcagagtcttgacctactacgccagcattttggcggtgtaagctaaccatt',\n",
       " '\\t\\taactcaaggctgatacggcgagacttgcgagccttgtccttgcggtacacagcagcg',\n",
       " '\\t\\tttactgtgaacattattcgtctccgcgactacgatgagatgcctgagtgcttccgtt',\n",
       " '\\t\\ttattctcaacaagattaaccgacagattcaatctcgtggatggacgttcaacattga',\n",
       " '\\t\\taacgagtcaatcagaccgctttgactctggtattactgtgaacattattcgtctccg',\n",
       " '\\t\\taagtgcttagcttcaaggtcacggatacgaccgaagcgagcctcgtcctcaatggcc',\n",
       " '\\t\\tgaagaccacgcctcgccaccgagtagacccttagagagcatgtcagcctcgacaact',\n",
       " '\\t\\tttagagagcatgtcagcctcgacaacttgcataaatgctttcttgtagacgtgccct',\n",
       " '\\t\\ttattcgtctccgcgactacgatgagatgcctgagtgcttccgttactggattgtcac',\n",
       " '\\t\\ttgctgaaaggaggaactatatgcgctcatacgatatgaacgttgagactgccgctga',\n",
       " '\\t\\tcatgaactcaaggctgatacggcgagacttgcgagccttgtccttgcggtacacagc',\n",
       " '\\t\\tttcgtctccgcgactacgatgagatgcctgagtgcttccgttactggattgtcacca',\n",
       " '\\t\\tcatgtcagcctcgacaacttgcataaatgctttcttgtagacgtgccctacgcgctt',\n",
       " '\\t\\taggaggaactacgcaaggttggaacatcggagagatgccagccagcgcacctgcacg',\n",
       " '\\t\\ttctcaacaagattaaccgacagattcaatctcgtggatggacgttcaacattgagga',\n",
       " '\\t\\ttgaagtgcttagcttcaaggtcacggatacgaccgaagcgagcctcgtcctcaatgg',\n",
       " '\\t\\tctatatgcgctcatacgatatgaacgttgagactgccgctgagttatcagctgtgaa',\n",
       " '\\t\\tgcggcagcacgtttccacgcggtgagagcctcaggattcatgtcgatgtcttccggt',\n",
       " '\\t\\tatccctaatgtctacttccggtcaatccatctacgttaaccgaggtggctatgtgta',\n",
       " '\\t\\ttggcgtctatcggtgaacctccggtatcaacgctggaaggtgacgctaacgcagatg',\n",
       " '\\t\\ttctcgtggatggacgttcaacattgaggaaggcataacgctactacctgatgtttac',\n",
       " '\\t\\ttattggcttgctcaagcatgaactcaaggctgatacggcgagacttgcgagccttgt',\n",
       " '\\t\\ttagagggtgtactccaagaagaggaagatgaggctagacgtctctgcatggagtatg',\n",
       " '\\t\\tcagcggcagcacgtttccacgcggtgagagcctcaggattcatgtcgatgtcttccg',\n",
       " '\\t\\tttacgttggcgaccgctaggactttcttgttgattttccatgcggtgttttgcgcaa',\n",
       " '\\t\\tacgctaacgcagatgcagcgaacgctcggcgtattctcaacaagattaaccgacaga',\n",
       " '\\t\\tggtgttttgcgcaatgttaatcgctttgtacacctcaggcatgtaaacgtcttcgta',\n",
       " '\\t\\taaccattccggttgactcaatgagcatctcgatgcagcgtactcctacatgaataga',\n",
       " '\\t\\tagacgtctctgcatggagtatgagatggactacggtgggtacaatatgctggatgga',\n",
       " '\\t\\ttgttgattttccatgcggtgttttgcgcaatgttaatcgctttgtacacctcaggca',\n",
       " '\\t\\ttgcacgggttgcgatagcctcagcgtattcaggtgcgagttcgatagtctcagagtc',\n",
       " '\\t\\taggcatgtaaacgtcttcgtagcgcatcagtgctttcttactgtgagtacgcaccag',\n",
       " '\\t\\tccgagtagacccttagagagcatgtcagcctcgacaacttgcataaatgctttcttg',\n",
       " '\\t\\tcgctaggactttcttgttgattttccatgcggtgttttgcgcaatgttaatcgcttt',\n",
       " '\\t\\ttatgaccgaacgagtcaatcagaccgctttgactctggtattactgtgaacattatt',\n",
       " '\\t\\tagagggtgtactccaagaagaggaagatgaggctagacgtctctgcatggagtatga',\n",
       " '\\t\\tgagagcatgtcagcctcgacaacttgcataaatgctttcttgtagacgtgccctacg',\n",
       " '\\t\\tcctcaatggcctctaaacgggtcttgaggggttttttgctgaaaggaggaactatat',\n",
       " '\\t\\tgtattctcaacaagattaaccgacagattcaatctcgtggatggacgttcaacattg',\n",
       " '\\t\\tcgcgactacgatgagatgcctgagtgcttccgttactggattgtcaccaaggcttcc',\n",
       " '\\t\\tctcgtcctcaatggcctctaaacgggtcttgaggggttttttgctgaaaggaggaac',\n",
       " '\\t\\ttaacattaataaataaggaggctctaatggcactcattagccaatcaatcaagaact']"
      ]
     },
     "execution_count": 35,
     "metadata": {},
     "output_type": "execute_result"
    }
   ],
   "source": [
    "sentences"
   ]
  },
  {
   "cell_type": "markdown",
   "id": "9ea5a921",
   "metadata": {},
   "source": [
    "#### Data split"
   ]
  },
  {
   "cell_type": "code",
   "execution_count": 63,
   "id": "60d29d1f",
   "metadata": {},
   "outputs": [],
   "source": [
    "train_size = int(len(labels)*training_portion)\n",
    "train_sentences = sentences[0:train_size]\n",
    "train_labels = labels[0:train_size]\n",
    "test_sentences = sentences[train_size:]\n",
    "test_labels = labels[train_size:]"
   ]
  },
  {
   "cell_type": "code",
   "execution_count": 62,
   "id": "f145f080",
   "metadata": {},
   "outputs": [
    {
     "data": {
      "text/plain": [
       "array(['+'], dtype='<U1')"
      ]
     },
     "execution_count": 62,
     "metadata": {},
     "output_type": "execute_result"
    }
   ],
   "source": [
    "train_labels"
   ]
  },
  {
   "cell_type": "markdown",
   "id": "6de39512",
   "metadata": {},
   "source": [
    "#### Tokenizer and indexes"
   ]
  },
  {
   "cell_type": "code",
   "execution_count": 37,
   "id": "d901af99",
   "metadata": {},
   "outputs": [],
   "source": [
    "from tensorflow.keras.preprocessing.text import Tokenizer\n"
   ]
  },
  {
   "cell_type": "code",
   "execution_count": 38,
   "id": "c32d98a2",
   "metadata": {},
   "outputs": [],
   "source": [
    "sentences_tokenizer =  Tokenizer(num_words = vpcap_size, oov_token=oov_tok)\n",
    "sentences_tokenizer.fit_on_texts(train_sentences)\n",
    "word_index= sentences_tokenizer.word_index \n",
    "\n",
    "train_sentences_sequences = sentences_tokenizer.texts_to_sequences(train_sentences)\n",
    "test_sentences_sequences = sentences_tokenizer.texts_to_sequences(test_sentences)\n"
   ]
  },
  {
   "cell_type": "code",
   "execution_count": 39,
   "id": "8a2ee1f2",
   "metadata": {},
   "outputs": [],
   "source": [
    "from sklearn.preprocessing import LabelEncoder\n",
    "label_encoder = LabelEncoder()\n",
    "\n",
    "train_labels_sequences = label_encoder.fit_transform(train_labels)\n",
    "test_labels_sequences = label_encoder.fit_transform(test_labels)"
   ]
  },
  {
   "cell_type": "code",
   "execution_count": 40,
   "id": "67e2df57",
   "metadata": {},
   "outputs": [
    {
     "data": {
      "text/plain": [
       "22"
      ]
     },
     "execution_count": 40,
     "metadata": {},
     "output_type": "execute_result"
    }
   ],
   "source": [
    "len(test_labels_sequences)"
   ]
  },
  {
   "cell_type": "markdown",
   "id": "0b06ad7f",
   "metadata": {},
   "source": [
    "#### Pad_sequences"
   ]
  },
  {
   "cell_type": "code",
   "execution_count": 41,
   "id": "2af0348a",
   "metadata": {},
   "outputs": [],
   "source": [
    "from tensorflow.keras.preprocessing.sequence import pad_sequences"
   ]
  },
  {
   "cell_type": "code",
   "execution_count": 42,
   "id": "d01d9f5c",
   "metadata": {},
   "outputs": [],
   "source": [
    "train_padded = pad_sequences(train_sentences_sequences, maxlen=max_length, padding=padding_type)\n",
    "test_padded = pad_sequences(test_sentences_sequences, maxlen=max_length, padding=padding_type)"
   ]
  },
  {
   "cell_type": "markdown",
   "id": "4a9a9e31",
   "metadata": {},
   "source": [
    "#### Build The LSTM Model"
   ]
  },
  {
   "cell_type": "code",
   "execution_count": 43,
   "id": "da235782",
   "metadata": {},
   "outputs": [
    {
     "data": {
      "text/html": [
       "<pre style=\"white-space:pre;overflow-x:auto;line-height:normal;font-family:Menlo,'DejaVu Sans Mono',consolas,'Courier New',monospace\"><span style=\"font-weight: bold\">Model: \"sequential\"</span>\n",
       "</pre>\n"
      ],
      "text/plain": [
       "\u001b[1mModel: \"sequential\"\u001b[0m\n"
      ]
     },
     "metadata": {},
     "output_type": "display_data"
    },
    {
     "data": {
      "text/html": [
       "<pre style=\"white-space:pre;overflow-x:auto;line-height:normal;font-family:Menlo,'DejaVu Sans Mono',consolas,'Courier New',monospace\">┏━━━━━━━━━━━━━━━━━━━━━━━━━━━━━━━━━┳━━━━━━━━━━━━━━━━━━━━━━━━┳━━━━━━━━━━━━━━━┓\n",
       "┃<span style=\"font-weight: bold\"> Layer (type)                    </span>┃<span style=\"font-weight: bold\"> Output Shape           </span>┃<span style=\"font-weight: bold\">       Param # </span>┃\n",
       "┡━━━━━━━━━━━━━━━━━━━━━━━━━━━━━━━━━╇━━━━━━━━━━━━━━━━━━━━━━━━╇━━━━━━━━━━━━━━━┩\n",
       "│ embedding (<span style=\"color: #0087ff; text-decoration-color: #0087ff\">Embedding</span>)           │ ?                      │   <span style=\"color: #00af00; text-decoration-color: #00af00\">0</span> (unbuilt) │\n",
       "├─────────────────────────────────┼────────────────────────┼───────────────┤\n",
       "│ dropout (<span style=\"color: #0087ff; text-decoration-color: #0087ff\">Dropout</span>)               │ ?                      │             <span style=\"color: #00af00; text-decoration-color: #00af00\">0</span> │\n",
       "├─────────────────────────────────┼────────────────────────┼───────────────┤\n",
       "│ bidirectional (<span style=\"color: #0087ff; text-decoration-color: #0087ff\">Bidirectional</span>)   │ ?                      │   <span style=\"color: #00af00; text-decoration-color: #00af00\">0</span> (unbuilt) │\n",
       "├─────────────────────────────────┼────────────────────────┼───────────────┤\n",
       "│ dense (<span style=\"color: #0087ff; text-decoration-color: #0087ff\">Dense</span>)                   │ ?                      │   <span style=\"color: #00af00; text-decoration-color: #00af00\">0</span> (unbuilt) │\n",
       "└─────────────────────────────────┴────────────────────────┴───────────────┘\n",
       "</pre>\n"
      ],
      "text/plain": [
       "┏━━━━━━━━━━━━━━━━━━━━━━━━━━━━━━━━━┳━━━━━━━━━━━━━━━━━━━━━━━━┳━━━━━━━━━━━━━━━┓\n",
       "┃\u001b[1m \u001b[0m\u001b[1mLayer (type)                   \u001b[0m\u001b[1m \u001b[0m┃\u001b[1m \u001b[0m\u001b[1mOutput Shape          \u001b[0m\u001b[1m \u001b[0m┃\u001b[1m \u001b[0m\u001b[1m      Param #\u001b[0m\u001b[1m \u001b[0m┃\n",
       "┡━━━━━━━━━━━━━━━━━━━━━━━━━━━━━━━━━╇━━━━━━━━━━━━━━━━━━━━━━━━╇━━━━━━━━━━━━━━━┩\n",
       "│ embedding (\u001b[38;5;33mEmbedding\u001b[0m)           │ ?                      │   \u001b[38;5;34m0\u001b[0m (unbuilt) │\n",
       "├─────────────────────────────────┼────────────────────────┼───────────────┤\n",
       "│ dropout (\u001b[38;5;33mDropout\u001b[0m)               │ ?                      │             \u001b[38;5;34m0\u001b[0m │\n",
       "├─────────────────────────────────┼────────────────────────┼───────────────┤\n",
       "│ bidirectional (\u001b[38;5;33mBidirectional\u001b[0m)   │ ?                      │   \u001b[38;5;34m0\u001b[0m (unbuilt) │\n",
       "├─────────────────────────────────┼────────────────────────┼───────────────┤\n",
       "│ dense (\u001b[38;5;33mDense\u001b[0m)                   │ ?                      │   \u001b[38;5;34m0\u001b[0m (unbuilt) │\n",
       "└─────────────────────────────────┴────────────────────────┴───────────────┘\n"
      ]
     },
     "metadata": {},
     "output_type": "display_data"
    },
    {
     "data": {
      "text/html": [
       "<pre style=\"white-space:pre;overflow-x:auto;line-height:normal;font-family:Menlo,'DejaVu Sans Mono',consolas,'Courier New',monospace\"><span style=\"font-weight: bold\"> Total params: </span><span style=\"color: #00af00; text-decoration-color: #00af00\">0</span> (0.00 B)\n",
       "</pre>\n"
      ],
      "text/plain": [
       "\u001b[1m Total params: \u001b[0m\u001b[38;5;34m0\u001b[0m (0.00 B)\n"
      ]
     },
     "metadata": {},
     "output_type": "display_data"
    },
    {
     "data": {
      "text/html": [
       "<pre style=\"white-space:pre;overflow-x:auto;line-height:normal;font-family:Menlo,'DejaVu Sans Mono',consolas,'Courier New',monospace\"><span style=\"font-weight: bold\"> Trainable params: </span><span style=\"color: #00af00; text-decoration-color: #00af00\">0</span> (0.00 B)\n",
       "</pre>\n"
      ],
      "text/plain": [
       "\u001b[1m Trainable params: \u001b[0m\u001b[38;5;34m0\u001b[0m (0.00 B)\n"
      ]
     },
     "metadata": {},
     "output_type": "display_data"
    },
    {
     "data": {
      "text/html": [
       "<pre style=\"white-space:pre;overflow-x:auto;line-height:normal;font-family:Menlo,'DejaVu Sans Mono',consolas,'Courier New',monospace\"><span style=\"font-weight: bold\"> Non-trainable params: </span><span style=\"color: #00af00; text-decoration-color: #00af00\">0</span> (0.00 B)\n",
       "</pre>\n"
      ],
      "text/plain": [
       "\u001b[1m Non-trainable params: \u001b[0m\u001b[38;5;34m0\u001b[0m (0.00 B)\n"
      ]
     },
     "metadata": {},
     "output_type": "display_data"
    }
   ],
   "source": [
    "model = tf.keras.Sequential([\n",
    "    tf.keras.layers.Embedding(vpcap_size, dim),\n",
    "    tf.keras.layers.Dropout(0.5),\n",
    "    tf.keras.layers.Bidirectional(LSTM(dim)),\n",
    "    tf.keras.layers.Dense(1, activation='sigmoid')  # Binary output\n",
    "])\n",
    "\n",
    "model.compile(\n",
    "    loss='binary_crossentropy',     # Binary classification loss\n",
    "    optimizer='adam',\n",
    "    metrics=['accuracy']\n",
    ")\n",
    "\n",
    "model.summary()"
   ]
  },
  {
   "cell_type": "code",
   "execution_count": 44,
   "id": "d39590e6",
   "metadata": {},
   "outputs": [
    {
     "name": "stdout",
     "output_type": "stream",
     "text": [
      "Epoch 1/50\n",
      "3/3 - 4s - 1s/step - accuracy: 0.6310 - loss: 0.6868 - val_accuracy: 1.0000 - val_loss: 0.6535\n",
      "Epoch 2/50\n",
      "3/3 - 0s - 71ms/step - accuracy: 0.6310 - loss: 0.6819 - val_accuracy: 1.0000 - val_loss: 0.6181\n",
      "Epoch 3/50\n",
      "3/3 - 0s - 59ms/step - accuracy: 0.6310 - loss: 0.6743 - val_accuracy: 1.0000 - val_loss: 0.5810\n",
      "Epoch 4/50\n",
      "3/3 - 0s - 44ms/step - accuracy: 0.6310 - loss: 0.6692 - val_accuracy: 1.0000 - val_loss: 0.5497\n",
      "Epoch 5/50\n",
      "3/3 - 0s - 47ms/step - accuracy: 0.6310 - loss: 0.6614 - val_accuracy: 1.0000 - val_loss: 0.5263\n",
      "Epoch 6/50\n",
      "3/3 - 0s - 42ms/step - accuracy: 0.6310 - loss: 0.6593 - val_accuracy: 1.0000 - val_loss: 0.4994\n",
      "Epoch 7/50\n",
      "3/3 - 0s - 39ms/step - accuracy: 0.6310 - loss: 0.6572 - val_accuracy: 1.0000 - val_loss: 0.4757\n",
      "Epoch 8/50\n",
      "3/3 - 0s - 40ms/step - accuracy: 0.6310 - loss: 0.6570 - val_accuracy: 1.0000 - val_loss: 0.4530\n",
      "Epoch 9/50\n",
      "3/3 - 0s - 47ms/step - accuracy: 0.6310 - loss: 0.6578 - val_accuracy: 1.0000 - val_loss: 0.4342\n",
      "Epoch 10/50\n",
      "3/3 - 0s - 42ms/step - accuracy: 0.6310 - loss: 0.6563 - val_accuracy: 1.0000 - val_loss: 0.4268\n",
      "Epoch 11/50\n",
      "3/3 - 0s - 43ms/step - accuracy: 0.6310 - loss: 0.6554 - val_accuracy: 1.0000 - val_loss: 0.4219\n",
      "Epoch 12/50\n",
      "3/3 - 0s - 48ms/step - accuracy: 0.6310 - loss: 0.6562 - val_accuracy: 1.0000 - val_loss: 0.4295\n",
      "Epoch 13/50\n",
      "3/3 - 0s - 39ms/step - accuracy: 0.6310 - loss: 0.6532 - val_accuracy: 1.0000 - val_loss: 0.4387\n",
      "Epoch 14/50\n",
      "3/3 - 0s - 42ms/step - accuracy: 0.6310 - loss: 0.6532 - val_accuracy: 1.0000 - val_loss: 0.4438\n",
      "Epoch 15/50\n",
      "3/3 - 0s - 42ms/step - accuracy: 0.6310 - loss: 0.6531 - val_accuracy: 1.0000 - val_loss: 0.4523\n",
      "Epoch 16/50\n",
      "3/3 - 0s - 43ms/step - accuracy: 0.6310 - loss: 0.6509 - val_accuracy: 1.0000 - val_loss: 0.4584\n",
      "Epoch 17/50\n",
      "3/3 - 0s - 39ms/step - accuracy: 0.6310 - loss: 0.6512 - val_accuracy: 1.0000 - val_loss: 0.4588\n",
      "Epoch 18/50\n",
      "3/3 - 0s - 40ms/step - accuracy: 0.6310 - loss: 0.6530 - val_accuracy: 1.0000 - val_loss: 0.4616\n",
      "Epoch 19/50\n",
      "3/3 - 0s - 41ms/step - accuracy: 0.6310 - loss: 0.6486 - val_accuracy: 1.0000 - val_loss: 0.4671\n",
      "Epoch 20/50\n",
      "3/3 - 0s - 39ms/step - accuracy: 0.6310 - loss: 0.6454 - val_accuracy: 1.0000 - val_loss: 0.4633\n",
      "Epoch 21/50\n",
      "3/3 - 0s - 43ms/step - accuracy: 0.6310 - loss: 0.6463 - val_accuracy: 1.0000 - val_loss: 0.4607\n",
      "Epoch 22/50\n",
      "3/3 - 0s - 44ms/step - accuracy: 0.6310 - loss: 0.6478 - val_accuracy: 1.0000 - val_loss: 0.4649\n",
      "Epoch 23/50\n",
      "3/3 - 0s - 46ms/step - accuracy: 0.6310 - loss: 0.6438 - val_accuracy: 1.0000 - val_loss: 0.4637\n",
      "Epoch 24/50\n",
      "3/3 - 0s - 40ms/step - accuracy: 0.6310 - loss: 0.6424 - val_accuracy: 1.0000 - val_loss: 0.4709\n",
      "Epoch 25/50\n",
      "3/3 - 0s - 42ms/step - accuracy: 0.6310 - loss: 0.6411 - val_accuracy: 1.0000 - val_loss: 0.4732\n",
      "Epoch 26/50\n",
      "3/3 - 0s - 48ms/step - accuracy: 0.6310 - loss: 0.6382 - val_accuracy: 1.0000 - val_loss: 0.4733\n",
      "Epoch 27/50\n",
      "3/3 - 0s - 49ms/step - accuracy: 0.6310 - loss: 0.6368 - val_accuracy: 1.0000 - val_loss: 0.4776\n",
      "Epoch 28/50\n",
      "3/3 - 0s - 44ms/step - accuracy: 0.6310 - loss: 0.6358 - val_accuracy: 1.0000 - val_loss: 0.4815\n",
      "Epoch 29/50\n",
      "3/3 - 0s - 38ms/step - accuracy: 0.6310 - loss: 0.6283 - val_accuracy: 1.0000 - val_loss: 0.4808\n",
      "Epoch 30/50\n",
      "3/3 - 0s - 39ms/step - accuracy: 0.6310 - loss: 0.6210 - val_accuracy: 1.0000 - val_loss: 0.4730\n",
      "Epoch 31/50\n",
      "3/3 - 0s - 41ms/step - accuracy: 0.6310 - loss: 0.6210 - val_accuracy: 1.0000 - val_loss: 0.4672\n",
      "Epoch 32/50\n",
      "3/3 - 0s - 42ms/step - accuracy: 0.6310 - loss: 0.6144 - val_accuracy: 1.0000 - val_loss: 0.4634\n",
      "Epoch 33/50\n",
      "3/3 - 0s - 39ms/step - accuracy: 0.6310 - loss: 0.6150 - val_accuracy: 1.0000 - val_loss: 0.4623\n",
      "Epoch 34/50\n",
      "3/3 - 0s - 41ms/step - accuracy: 0.6310 - loss: 0.6055 - val_accuracy: 1.0000 - val_loss: 0.4592\n",
      "Epoch 35/50\n",
      "3/3 - 0s - 41ms/step - accuracy: 0.6310 - loss: 0.6004 - val_accuracy: 1.0000 - val_loss: 0.4560\n",
      "Epoch 36/50\n",
      "3/3 - 0s - 40ms/step - accuracy: 0.6310 - loss: 0.5943 - val_accuracy: 1.0000 - val_loss: 0.4510\n",
      "Epoch 37/50\n",
      "3/3 - 0s - 40ms/step - accuracy: 0.6310 - loss: 0.5846 - val_accuracy: 1.0000 - val_loss: 0.4442\n",
      "Epoch 38/50\n",
      "3/3 - 0s - 39ms/step - accuracy: 0.6310 - loss: 0.5782 - val_accuracy: 1.0000 - val_loss: 0.4492\n",
      "Epoch 39/50\n",
      "3/3 - 0s - 41ms/step - accuracy: 0.6310 - loss: 0.5724 - val_accuracy: 1.0000 - val_loss: 0.4793\n",
      "Epoch 40/50\n",
      "3/3 - 0s - 50ms/step - accuracy: 0.6310 - loss: 0.5558 - val_accuracy: 1.0000 - val_loss: 0.4849\n",
      "Epoch 41/50\n",
      "3/3 - 0s - 50ms/step - accuracy: 0.6310 - loss: 0.5407 - val_accuracy: 1.0000 - val_loss: 0.4940\n",
      "Epoch 42/50\n",
      "3/3 - 0s - 49ms/step - accuracy: 0.6548 - loss: 0.5326 - val_accuracy: 1.0000 - val_loss: 0.4934\n",
      "Epoch 43/50\n",
      "3/3 - 0s - 43ms/step - accuracy: 0.6429 - loss: 0.5116 - val_accuracy: 1.0000 - val_loss: 0.4921\n",
      "Epoch 44/50\n",
      "3/3 - 0s - 44ms/step - accuracy: 0.6429 - loss: 0.5115 - val_accuracy: 1.0000 - val_loss: 0.4996\n",
      "Epoch 45/50\n",
      "3/3 - 0s - 47ms/step - accuracy: 0.6786 - loss: 0.4888 - val_accuracy: 1.0000 - val_loss: 0.4868\n",
      "Epoch 46/50\n",
      "3/3 - 0s - 44ms/step - accuracy: 0.6905 - loss: 0.4712 - val_accuracy: 1.0000 - val_loss: 0.4700\n",
      "Epoch 47/50\n",
      "3/3 - 0s - 44ms/step - accuracy: 0.7619 - loss: 0.4628 - val_accuracy: 1.0000 - val_loss: 0.4909\n",
      "Epoch 48/50\n",
      "3/3 - 0s - 44ms/step - accuracy: 0.7619 - loss: 0.4426 - val_accuracy: 1.0000 - val_loss: 0.4963\n",
      "Epoch 49/50\n",
      "3/3 - 0s - 45ms/step - accuracy: 0.8095 - loss: 0.4314 - val_accuracy: 1.0000 - val_loss: 0.4992\n",
      "Epoch 50/50\n",
      "3/3 - 0s - 49ms/step - accuracy: 0.8452 - loss: 0.4162 - val_accuracy: 1.0000 - val_loss: 0.5156\n"
     ]
    }
   ],
   "source": [
    "num_epochs = 50\n",
    "history = model.fit(train_padded, train_labels_sequences, epochs=num_epochs, validation_data=(test_padded, test_labels_sequences), verbose=2)"
   ]
  },
  {
   "cell_type": "code",
   "execution_count": 45,
   "id": "2967e5e1",
   "metadata": {},
   "outputs": [
    {
     "data": {
      "image/png": "[encoded data removed]",
      "text/plain": [
       "<Figure size 640x480 with 1 Axes>"
      ]
     },
     "metadata": {},
     "output_type": "display_data"
    },
    {
     "data": {
      "image/png": "[encoded data removed]",
      "text/plain": [
       "<Figure size 640x480 with 1 Axes>"
      ]
     },
     "metadata": {},
     "output_type": "display_data"
    }
   ],
   "source": [
    "import matplotlib.pyplot as plt\n",
    "def plot_graphs(history, string):\n",
    "    plt.plot(history.history[string])\n",
    "    plt.plot(history.history['val_'+string])\n",
    "    plt.xlabel(\"Epochs\")\n",
    "    plt.ylabel(string)\n",
    "    plt.legend([string, 'val_'+string])\n",
    "    plt.show()\n",
    "\n",
    "plot_graphs(history, \"accuracy\")\n",
    "plot_graphs(history, \"loss\")"
   ]
  },
  {
   "cell_type": "code",
   "execution_count": 46,
   "id": "e5f0d0dc",
   "metadata": {},
   "outputs": [
    {
     "name": "stdout",
     "output_type": "stream",
     "text": [
      "Test Loss: 0.5156\n",
      "Test Accuracy: 1.0000\n"
     ]
    }
   ],
   "source": [
    "# Get final evaluation\n",
    "loss, accuracy = model.evaluate(test_padded, test_labels_sequences, verbose=0)\n",
    "print(f\"Test Loss: {loss:.4f}\")\n",
    "print(f\"Test Accuracy: {accuracy:.4f}\")"
   ]
  },
  {
   "cell_type": "code",
   "execution_count": 53,
   "id": "126b57f5",
   "metadata": {},
   "outputs": [
    {
     "data": {
      "text/plain": [
       "'\\t\\tcctcaatggcctctaaacgggtcttgaggggttttttgctgaaaggaggaactatat'"
      ]
     },
     "execution_count": 53,
     "metadata": {},
     "output_type": "execute_result"
    }
   ],
   "source": [
    "data['Sequence'][101]"
   ]
  },
  {
   "cell_type": "code",
   "execution_count": 52,
   "id": "a4d9895c",
   "metadata": {},
   "outputs": [
    {
     "data": {
      "text/html": [
       "<div>\n",
       "<style scoped>\n",
       "    .dataframe tbody tr th:only-of-type {\n",
       "        vertical-align: middle;\n",
       "    }\n",
       "\n",
       "    .dataframe tbody tr th {\n",
       "        vertical-align: top;\n",
       "    }\n",
       "\n",
       "    .dataframe thead th {\n",
       "        text-align: right;\n",
       "    }\n",
       "</style>\n",
       "<table border=\"1\" class=\"dataframe\">\n",
       "  <thead>\n",
       "    <tr style=\"text-align: right;\">\n",
       "      <th></th>\n",
       "      <th>Class</th>\n",
       "      <th>id</th>\n",
       "      <th>Sequence</th>\n",
       "    </tr>\n",
       "  </thead>\n",
       "  <tbody>\n",
       "    <tr>\n",
       "      <th>0</th>\n",
       "      <td>+</td>\n",
       "      <td>S10</td>\n",
       "      <td>\\t\\ttactagcaatacgcttgcgttcggtggttaagtatgtataat...</td>\n",
       "    </tr>\n",
       "    <tr>\n",
       "      <th>1</th>\n",
       "      <td>+</td>\n",
       "      <td>AMPC</td>\n",
       "      <td>\\t\\ttgctatcctgacagttgtcacgctgattggtgtcgttacaat...</td>\n",
       "    </tr>\n",
       "    <tr>\n",
       "      <th>2</th>\n",
       "      <td>+</td>\n",
       "      <td>AROH</td>\n",
       "      <td>\\t\\tgtactagagaactagtgcattagcttatttttttgttatcat...</td>\n",
       "    </tr>\n",
       "    <tr>\n",
       "      <th>3</th>\n",
       "      <td>+</td>\n",
       "      <td>DEOP2</td>\n",
       "      <td>\\taattgtgatgtgtatcgaagtgtgttgcggagtagatgttagaa...</td>\n",
       "    </tr>\n",
       "    <tr>\n",
       "      <th>4</th>\n",
       "      <td>+</td>\n",
       "      <td>LEU1_TRNA</td>\n",
       "      <td>\\ttcgataattaactattgacgaaaagctgaaaaccactagaatgc...</td>\n",
       "    </tr>\n",
       "    <tr>\n",
       "      <th>...</th>\n",
       "      <td>...</td>\n",
       "      <td>...</td>\n",
       "      <td>...</td>\n",
       "    </tr>\n",
       "    <tr>\n",
       "      <th>101</th>\n",
       "      <td>-</td>\n",
       "      <td>799</td>\n",
       "      <td>\\t\\tcctcaatggcctctaaacgggtcttgaggggttttttgctga...</td>\n",
       "    </tr>\n",
       "    <tr>\n",
       "      <th>102</th>\n",
       "      <td>-</td>\n",
       "      <td>987</td>\n",
       "      <td>\\t\\tgtattctcaacaagattaaccgacagattcaatctcgtggat...</td>\n",
       "    </tr>\n",
       "    <tr>\n",
       "      <th>103</th>\n",
       "      <td>-</td>\n",
       "      <td>1226</td>\n",
       "      <td>\\t\\tcgcgactacgatgagatgcctgagtgcttccgttactggatt...</td>\n",
       "    </tr>\n",
       "    <tr>\n",
       "      <th>104</th>\n",
       "      <td>-</td>\n",
       "      <td>794</td>\n",
       "      <td>\\t\\tctcgtcctcaatggcctctaaacgggtcttgaggggtttttt...</td>\n",
       "    </tr>\n",
       "    <tr>\n",
       "      <th>105</th>\n",
       "      <td>-</td>\n",
       "      <td>1442</td>\n",
       "      <td>\\t\\ttaacattaataaataaggaggctctaatggcactcattagcc...</td>\n",
       "    </tr>\n",
       "  </tbody>\n",
       "</table>\n",
       "<p>106 rows × 3 columns</p>\n",
       "</div>"
      ],
      "text/plain": [
       "    Class         id                                           Sequence\n",
       "0       +        S10  \\t\\ttactagcaatacgcttgcgttcggtggttaagtatgtataat...\n",
       "1       +       AMPC  \\t\\ttgctatcctgacagttgtcacgctgattggtgtcgttacaat...\n",
       "2       +       AROH  \\t\\tgtactagagaactagtgcattagcttatttttttgttatcat...\n",
       "3       +      DEOP2  \\taattgtgatgtgtatcgaagtgtgttgcggagtagatgttagaa...\n",
       "4       +  LEU1_TRNA  \\ttcgataattaactattgacgaaaagctgaaaaccactagaatgc...\n",
       "..    ...        ...                                                ...\n",
       "101     -        799  \\t\\tcctcaatggcctctaaacgggtcttgaggggttttttgctga...\n",
       "102     -        987  \\t\\tgtattctcaacaagattaaccgacagattcaatctcgtggat...\n",
       "103     -       1226  \\t\\tcgcgactacgatgagatgcctgagtgcttccgttactggatt...\n",
       "104     -        794  \\t\\tctcgtcctcaatggcctctaaacgggtcttgaggggtttttt...\n",
       "105     -       1442  \\t\\ttaacattaataaataaggaggctctaatggcactcattagcc...\n",
       "\n",
       "[106 rows x 3 columns]"
      ]
     },
     "execution_count": 52,
     "metadata": {},
     "output_type": "execute_result"
    }
   ],
   "source": [
    "data"
   ]
  },
  {
   "cell_type": "code",
   "execution_count": 54,
   "id": "743d6527",
   "metadata": {},
   "outputs": [
    {
     "name": "stdout",
     "output_type": "stream",
     "text": [
      "\u001b[1m1/1\u001b[0m \u001b[32m━━━━━━━━━━━━━━━━━━━━\u001b[0m\u001b[37m\u001b[0m \u001b[1m0s\u001b[0m 25ms/step\n",
      "[[0.37074]]\n",
      "0\n",
      "+\n"
     ]
    }
   ],
   "source": [
    "txt = [data['Sequence'][101]]\n",
    "\n",
    "seq = sentences_tokenizer.texts_to_sequences(txt)\n",
    "padded = pad_sequences(seq, maxlen=max_length)\n",
    "pred = model.predict(padded)\n",
    "labels = ['+', '-']\n",
    "\n",
    "print(pred)\n",
    "print(np.argmax(pred))\n",
    "print(labels[np.argmax(pred)])"
   ]
  },
  {
   "cell_type": "code",
   "execution_count": 38,
   "id": "6d88216f",
   "metadata": {},
   "outputs": [
    {
     "name": "stdout",
     "output_type": "stream",
     "text": [
      "\u001b[1m1/1\u001b[0m \u001b[32m━━━━━━━━━━━━━━━━━━━━\u001b[0m\u001b[37m\u001b[0m \u001b[1m0s\u001b[0m 28ms/step\n",
      "[[2.5448760e-05 9.9406731e-01 2.0335207e-04 4.9273390e-03 7.7656843e-04]]\n",
      "1\n",
      "entertainment\n"
     ]
    }
   ],
   "source": [
    "txt = [\"Prime Minister Tony Blair is expected to formally announce 5 May as the date for the upcoming general election, signaling the start of a pivotal campaign season\"]\n",
    "\n",
    "seq = sentences_tokenizer.texts_to_sequences(txt)\n",
    "padded = pad_sequences(seq, maxlen=max_length)\n",
    "pred = model.predict(padded)\n",
    "labels = ['business', 'entertainment', 'politics', 'sport', 'tech']\n",
    "\n",
    "print(pred)\n",
    "print(np.argmax(pred))\n",
    "print(labels[np.argmax(pred)])"
   ]
  },
  {
   "cell_type": "markdown",
   "id": "08356189",
   "metadata": {},
   "source": [
    "#### Hypertuning with Keras Tuner\n"
   ]
  },
  {
   "cell_type": "code",
   "execution_count": 39,
   "id": "6a95c3cb",
   "metadata": {},
   "outputs": [
    {
     "name": "stdout",
     "output_type": "stream",
     "text": [
      "Defaulting to user installation because normal site-packages is not writeable\n",
      "Requirement already satisfied: keras_tuner in c:\\users\\asus tuf\\appdata\\roaming\\python\\python312\\site-packages (1.4.7)\n",
      "Requirement already satisfied: keras in c:\\users\\asus tuf\\appdata\\roaming\\python\\python312\\site-packages (from keras_tuner) (3.6.0)\n",
      "Requirement already satisfied: packaging in c:\\users\\asus tuf\\appdata\\roaming\\python\\python312\\site-packages (from keras_tuner) (24.1)\n",
      "Requirement already satisfied: requests in c:\\users\\asus tuf\\appdata\\roaming\\python\\python312\\site-packages (from keras_tuner) (2.32.3)\n",
      "Requirement already satisfied: kt-legacy in c:\\users\\asus tuf\\appdata\\roaming\\python\\python312\\site-packages (from keras_tuner) (1.0.5)\n",
      "Requirement already satisfied: absl-py in c:\\users\\asus tuf\\appdata\\roaming\\python\\python312\\site-packages (from keras->keras_tuner) (2.1.0)\n",
      "Requirement already satisfied: numpy in c:\\users\\asus tuf\\appdata\\roaming\\python\\python312\\site-packages (from keras->keras_tuner) (1.26.4)\n",
      "Requirement already satisfied: rich in c:\\users\\asus tuf\\appdata\\roaming\\python\\python312\\site-packages (from keras->keras_tuner) (13.8.1)\n",
      "Requirement already satisfied: namex in c:\\users\\asus tuf\\appdata\\roaming\\python\\python312\\site-packages (from keras->keras_tuner) (0.0.8)\n",
      "Requirement already satisfied: h5py in c:\\users\\asus tuf\\appdata\\roaming\\python\\python312\\site-packages (from keras->keras_tuner) (3.12.1)\n",
      "Requirement already satisfied: optree in c:\\users\\asus tuf\\appdata\\roaming\\python\\python312\\site-packages (from keras->keras_tuner) (0.13.1)\n",
      "Requirement already satisfied: ml-dtypes in c:\\users\\asus tuf\\appdata\\roaming\\python\\python312\\site-packages (from keras->keras_tuner) (0.4.1)\n",
      "Requirement already satisfied: typing-extensions>=4.5.0 in c:\\users\\asus tuf\\appdata\\roaming\\python\\python312\\site-packages (from optree->keras->keras_tuner) (4.12.2)\n",
      "Requirement already satisfied: charset-normalizer<4,>=2 in c:\\users\\asus tuf\\appdata\\roaming\\python\\python312\\site-packages (from requests->keras_tuner) (3.3.2)\n",
      "Requirement already satisfied: idna<4,>=2.5 in c:\\users\\asus tuf\\appdata\\roaming\\python\\python312\\site-packages (from requests->keras_tuner) (3.10)\n",
      "Requirement already satisfied: urllib3<3,>=1.21.1 in c:\\users\\asus tuf\\appdata\\roaming\\python\\python312\\site-packages (from requests->keras_tuner) (2.2.3)\n",
      "Requirement already satisfied: certifi>=2017.4.17 in c:\\users\\asus tuf\\appdata\\roaming\\python\\python312\\site-packages (from requests->keras_tuner) (2024.8.30)\n",
      "Requirement already satisfied: markdown-it-py>=2.2.0 in c:\\users\\asus tuf\\appdata\\roaming\\python\\python312\\site-packages (from rich->keras->keras_tuner) (3.0.0)\n",
      "Requirement already satisfied: pygments<3.0.0,>=2.13.0 in c:\\users\\asus tuf\\appdata\\roaming\\python\\python312\\site-packages (from rich->keras->keras_tuner) (2.18.0)\n",
      "Requirement already satisfied: mdurl~=0.1 in c:\\users\\asus tuf\\appdata\\roaming\\python\\python312\\site-packages (from markdown-it-py>=2.2.0->rich->keras->keras_tuner) (0.1.2)\n"
     ]
    }
   ],
   "source": [
    "!pip install keras_tuner"
   ]
  },
  {
   "cell_type": "code",
   "execution_count": 41,
   "id": "e2b3c0db",
   "metadata": {},
   "outputs": [],
   "source": [
    "import tensorflow as tf\n",
    "from tensorflow import keras\n",
    "from keras_tuner import RandomSearch\n",
    "\n",
    "# Define vocabulary size (replace with actual value)\n",
    "vpcap_size = 10000\n",
    "\n",
    "# Model builder function\n",
    "def model_builder(hp):\n",
    "    model = tf.keras.Sequential()\n",
    "\n",
    "    # Embedding layer\n",
    "    embedding_dim = hp.Choice('embedding_dim', values=[32, 64, 128, 256])\n",
    "    model.add(tf.keras.layers.Embedding(input_dim=vpcap_size, output_dim=embedding_dim))\n",
    "\n",
    "    # Dropout after embedding\n",
    "    dropout_rate = hp.Float('dropout_rate', min_value=0.2, max_value=0.5, step=0.1)\n",
    "    model.add(tf.keras.layers.Dropout(dropout_rate))\n",
    "\n",
    "    # Bidirectional LSTM layer\n",
    "    lstm_units = hp.Int('lstm_units', min_value=32, max_value=256, step=32)\n",
    "    model.add(tf.keras.layers.Bidirectional(tf.keras.layers.LSTM(lstm_units)))\n",
    "\n",
    "    # Output layer (5 classes here; adjust as needed)\n",
    "    model.add(tf.keras.layers.Dense(5, activation='softmax'))\n",
    "\n",
    "    # Optimizer with learning rate tuning\n",
    "    learning_rate = hp.Choice('learning_rate', values=[1e-2, 1e-3, 1e-4])\n",
    "    optimizer = tf.keras.optimizers.Adam(learning_rate=learning_rate)\n",
    "\n",
    "    model.compile(optimizer=optimizer,\n",
    "                  loss='sparse_categorical_crossentropy',\n",
    "                  metrics=['accuracy'])\n",
    "\n",
    "    return model\n"
   ]
  },
  {
   "cell_type": "code",
   "execution_count": 42,
   "id": "15b480b6",
   "metadata": {},
   "outputs": [
    {
     "name": "stdout",
     "output_type": "stream",
     "text": [
      "Trial 10 Complete [00h 01m 33s]\n",
      "val_accuracy: 0.9101123809814453\n",
      "\n",
      "Best val_accuracy So Far: 0.9370786547660828\n",
      "Total elapsed time: 00h 39m 50s\n"
     ]
    }
   ],
   "source": [
    "tuner = RandomSearch(\n",
    "    model_builder,\n",
    "    objective='val_accuracy',\n",
    "    max_trials=10,\n",
    "    executions_per_trial=2,\n",
    "    directory='my_dir',\n",
    "    project_name='lstm_text_classification_tuning'\n",
    ")\n",
    "\n",
    "# Early stopping\n",
    "stop_early = tf.keras.callbacks.EarlyStopping(monitor='val_loss', patience=3)\n",
    "\n",
    "# Run hyperparameter search\n",
    "tuner.search(train_padded, train_labels_sequences, \n",
    "             epochs=20, \n",
    "             validation_data=(test_padded, test_labels_sequences),\n",
    "             callbacks=[stop_early], \n",
    "             verbose=2)\n"
   ]
  },
  {
   "cell_type": "code",
   "execution_count": 43,
   "id": "4acd3f50",
   "metadata": {},
   "outputs": [
    {
     "name": "stdout",
     "output_type": "stream",
     "text": [
      "Epoch 1/50\n",
      "56/56 - 7s - 120ms/step - accuracy: 0.2798 - loss: 1.5577 - val_accuracy: 0.4404 - val_loss: 1.4416\n",
      "Epoch 2/50\n",
      "56/56 - 4s - 66ms/step - accuracy: 0.5573 - loss: 1.1231 - val_accuracy: 0.6067 - val_loss: 0.8451\n",
      "Epoch 3/50\n",
      "56/56 - 3s - 61ms/step - accuracy: 0.7449 - loss: 0.7504 - val_accuracy: 0.7393 - val_loss: 0.8589\n",
      "Epoch 4/50\n",
      "56/56 - 3s - 59ms/step - accuracy: 0.8809 - loss: 0.4705 - val_accuracy: 0.9034 - val_loss: 0.3934\n",
      "Epoch 5/50\n",
      "56/56 - 3s - 61ms/step - accuracy: 0.8062 - loss: 0.4933 - val_accuracy: 0.8045 - val_loss: 0.6103\n",
      "Epoch 6/50\n",
      "56/56 - 4s - 68ms/step - accuracy: 0.8382 - loss: 0.4832 - val_accuracy: 0.8427 - val_loss: 0.4508\n",
      "Epoch 7/50\n",
      "56/56 - 4s - 65ms/step - accuracy: 0.9326 - loss: 0.2430 - val_accuracy: 0.8944 - val_loss: 0.3708\n",
      "Epoch 8/50\n",
      "56/56 - 4s - 67ms/step - accuracy: 0.9500 - loss: 0.1863 - val_accuracy: 0.9079 - val_loss: 0.2619\n",
      "Epoch 9/50\n",
      "56/56 - 4s - 63ms/step - accuracy: 0.8815 - loss: 0.4255 - val_accuracy: 0.8427 - val_loss: 0.5000\n",
      "Epoch 10/50\n",
      "56/56 - 4s - 63ms/step - accuracy: 0.9404 - loss: 0.2213 - val_accuracy: 0.9079 - val_loss: 0.3160\n",
      "Epoch 11/50\n",
      "56/56 - 4s - 64ms/step - accuracy: 0.9601 - loss: 0.1410 - val_accuracy: 0.8944 - val_loss: 0.3559\n",
      "Epoch 12/50\n",
      "56/56 - 4s - 64ms/step - accuracy: 0.9612 - loss: 0.1360 - val_accuracy: 0.9191 - val_loss: 0.2805\n",
      "Epoch 13/50\n",
      "56/56 - 4s - 63ms/step - accuracy: 0.9180 - loss: 0.2747 - val_accuracy: 0.9034 - val_loss: 0.3712\n",
      "Epoch 14/50\n",
      "56/56 - 4s - 64ms/step - accuracy: 0.9607 - loss: 0.1675 - val_accuracy: 0.9303 - val_loss: 0.2803\n",
      "Epoch 15/50\n",
      "56/56 - 4s - 64ms/step - accuracy: 0.9376 - loss: 0.1991 - val_accuracy: 0.9213 - val_loss: 0.2723\n",
      "Epoch 16/50\n",
      "56/56 - 4s - 74ms/step - accuracy: 0.9719 - loss: 0.1111 - val_accuracy: 0.8989 - val_loss: 0.3931\n",
      "Epoch 17/50\n",
      "56/56 - 4s - 64ms/step - accuracy: 0.9815 - loss: 0.0721 - val_accuracy: 0.9281 - val_loss: 0.2498\n",
      "Epoch 18/50\n",
      "56/56 - 4s - 73ms/step - accuracy: 0.9843 - loss: 0.0601 - val_accuracy: 0.9236 - val_loss: 0.2641\n",
      "Epoch 19/50\n",
      "56/56 - 4s - 64ms/step - accuracy: 0.9921 - loss: 0.0388 - val_accuracy: 0.9213 - val_loss: 0.2614\n",
      "Epoch 20/50\n",
      "56/56 - 4s - 69ms/step - accuracy: 0.9904 - loss: 0.0366 - val_accuracy: 0.9303 - val_loss: 0.2497\n",
      "Epoch 21/50\n",
      "56/56 - 4s - 65ms/step - accuracy: 0.9966 - loss: 0.0179 - val_accuracy: 0.9191 - val_loss: 0.2842\n",
      "Epoch 22/50\n",
      "56/56 - 4s - 63ms/step - accuracy: 0.9978 - loss: 0.0125 - val_accuracy: 0.9236 - val_loss: 0.2878\n",
      "Epoch 23/50\n",
      "56/56 - 4s - 63ms/step - accuracy: 0.9640 - loss: 0.1138 - val_accuracy: 0.8787 - val_loss: 0.3751\n",
      "Epoch 24/50\n",
      "56/56 - 4s - 63ms/step - accuracy: 0.9455 - loss: 0.1790 - val_accuracy: 0.9011 - val_loss: 0.3555\n",
      "Epoch 25/50\n",
      "56/56 - 4s - 71ms/step - accuracy: 0.9787 - loss: 0.0810 - val_accuracy: 0.9393 - val_loss: 0.2338\n",
      "Epoch 26/50\n",
      "56/56 - 4s - 70ms/step - accuracy: 0.9944 - loss: 0.0263 - val_accuracy: 0.9348 - val_loss: 0.2257\n",
      "Epoch 27/50\n",
      "56/56 - 4s - 63ms/step - accuracy: 0.9916 - loss: 0.0333 - val_accuracy: 0.9191 - val_loss: 0.2629\n",
      "Epoch 28/50\n",
      "56/56 - 4s - 63ms/step - accuracy: 0.9989 - loss: 0.0089 - val_accuracy: 0.9371 - val_loss: 0.2479\n",
      "Epoch 29/50\n",
      "56/56 - 4s - 66ms/step - accuracy: 1.0000 - loss: 0.0052 - val_accuracy: 0.9303 - val_loss: 0.2686\n",
      "Epoch 30/50\n",
      "56/56 - 4s - 71ms/step - accuracy: 0.9994 - loss: 0.0062 - val_accuracy: 0.9303 - val_loss: 0.2638\n",
      "Epoch 31/50\n",
      "56/56 - 4s - 68ms/step - accuracy: 0.9978 - loss: 0.0103 - val_accuracy: 0.9303 - val_loss: 0.2996\n",
      "Epoch 32/50\n",
      "56/56 - 4s - 65ms/step - accuracy: 1.0000 - loss: 0.0025 - val_accuracy: 0.9258 - val_loss: 0.3014\n",
      "Epoch 33/50\n",
      "56/56 - 4s - 64ms/step - accuracy: 0.9865 - loss: 0.0431 - val_accuracy: 0.9191 - val_loss: 0.2717\n",
      "Epoch 34/50\n",
      "56/56 - 4s - 63ms/step - accuracy: 1.0000 - loss: 0.0038 - val_accuracy: 0.9169 - val_loss: 0.2737\n",
      "Epoch 35/50\n",
      "56/56 - 3s - 62ms/step - accuracy: 1.0000 - loss: 0.0022 - val_accuracy: 0.9213 - val_loss: 0.2695\n",
      "Epoch 36/50\n",
      "56/56 - 3s - 62ms/step - accuracy: 1.0000 - loss: 0.0017 - val_accuracy: 0.9236 - val_loss: 0.2741\n",
      "Epoch 37/50\n",
      "56/56 - 4s - 64ms/step - accuracy: 1.0000 - loss: 0.0014 - val_accuracy: 0.9213 - val_loss: 0.2848\n",
      "Epoch 38/50\n",
      "56/56 - 3s - 62ms/step - accuracy: 1.0000 - loss: 0.0012 - val_accuracy: 0.9236 - val_loss: 0.2751\n",
      "Epoch 39/50\n",
      "56/56 - 3s - 62ms/step - accuracy: 1.0000 - loss: 0.0017 - val_accuracy: 0.9281 - val_loss: 0.2720\n",
      "Epoch 40/50\n",
      "56/56 - 3s - 62ms/step - accuracy: 1.0000 - loss: 0.0010 - val_accuracy: 0.9236 - val_loss: 0.2887\n",
      "Epoch 41/50\n",
      "56/56 - 3s - 62ms/step - accuracy: 1.0000 - loss: 8.9785e-04 - val_accuracy: 0.9258 - val_loss: 0.2771\n",
      "Epoch 42/50\n",
      "56/56 - 4s - 63ms/step - accuracy: 1.0000 - loss: 7.5435e-04 - val_accuracy: 0.9236 - val_loss: 0.2919\n",
      "Epoch 43/50\n",
      "56/56 - 3s - 61ms/step - accuracy: 0.9955 - loss: 0.0149 - val_accuracy: 0.8876 - val_loss: 0.4647\n",
      "Epoch 44/50\n",
      "56/56 - 4s - 63ms/step - accuracy: 0.9921 - loss: 0.0297 - val_accuracy: 0.9169 - val_loss: 0.2668\n",
      "Epoch 45/50\n",
      "56/56 - 3s - 62ms/step - accuracy: 0.9680 - loss: 0.0887 - val_accuracy: 0.8607 - val_loss: 0.4645\n",
      "Epoch 46/50\n",
      "56/56 - 4s - 63ms/step - accuracy: 0.9938 - loss: 0.0256 - val_accuracy: 0.9146 - val_loss: 0.3010\n",
      "Epoch 47/50\n",
      "56/56 - 3s - 62ms/step - accuracy: 0.9978 - loss: 0.0153 - val_accuracy: 0.9124 - val_loss: 0.3024\n",
      "Epoch 48/50\n",
      "56/56 - 3s - 62ms/step - accuracy: 0.9966 - loss: 0.0136 - val_accuracy: 0.9169 - val_loss: 0.3219\n",
      "Epoch 49/50\n",
      "56/56 - 4s - 64ms/step - accuracy: 1.0000 - loss: 0.0045 - val_accuracy: 0.9191 - val_loss: 0.3405\n",
      "Epoch 50/50\n",
      "56/56 - 4s - 71ms/step - accuracy: 0.9994 - loss: 0.0035 - val_accuracy: 0.9258 - val_loss: 0.3234\n",
      "Test Loss: 0.3234\n",
      "Test Accuracy: 0.9258\n"
     ]
    }
   ],
   "source": [
    "# Get the optimal hyperparameters\n",
    "best_hps = tuner.get_best_hyperparameters(num_trials=1)[0]\n",
    "\n",
    "# Build the best model\n",
    "best_model = tuner.hypermodel.build(best_hps)\n",
    "\n",
    "# Train best model\n",
    "history = best_model.fit(train_padded, train_labels_sequences, \n",
    "                         epochs=50, \n",
    "                         validation_data=(test_padded, test_labels_sequences), \n",
    "                         verbose=2)\n",
    "\n",
    "# Final evaluation\n",
    "loss, accuracy = best_model.evaluate(test_padded, test_labels_sequences, verbose=0)\n",
    "print(f\"Test Loss: {loss:.4f}\")\n",
    "print(f\"Test Accuracy: {accuracy:.4f}\")\n"
   ]
  },
  {
   "cell_type": "code",
   "execution_count": 44,
   "id": "f7ac55ca",
   "metadata": {},
   "outputs": [
    {
     "name": "stdout",
     "output_type": "stream",
     "text": [
      "\u001b[1m1/1\u001b[0m \u001b[32m━━━━━━━━━━━━━━━━━━━━\u001b[0m\u001b[37m\u001b[0m \u001b[1m0s\u001b[0m 425ms/step\n",
      "[[1.0666796e-03 2.3375107e-02 9.6370572e-01 1.0967308e-02 8.8515138e-04]]\n",
      "2\n",
      "politics\n"
     ]
    }
   ],
   "source": [
    "txt = [\"blair prepares to name poll date tony blair is likely to name 5 may as election\"]\n",
    "\n",
    "seq = sentences_tokenizer.texts_to_sequences(txt)\n",
    "padded = pad_sequences(seq, maxlen=max_length)\n",
    "pred = best_model.predict(padded)\n",
    "labels = ['business', 'entertainment', 'politics', 'sport', 'tech']\n",
    "\n",
    "print(pred)\n",
    "print(np.argmax(pred))\n",
    "print(labels[np.argmax(pred)])"
   ]
  },
  {
   "cell_type": "code",
   "execution_count": 45,
   "id": "cd79757b",
   "metadata": {},
   "outputs": [
    {
     "name": "stdout",
     "output_type": "stream",
     "text": [
      "\u001b[1m1/1\u001b[0m \u001b[32m━━━━━━━━━━━━━━━━━━━━\u001b[0m\u001b[37m\u001b[0m \u001b[1m0s\u001b[0m 25ms/step\n",
      "[[8.3748825e-02 9.4598897e-02 4.1385781e-02 7.7958119e-01 6.8527577e-04]]\n",
      "3\n",
      "sport\n"
     ]
    }
   ],
   "source": [
    "txt = [\"Money business\"]\n",
    "\n",
    "seq = sentences_tokenizer.texts_to_sequences(txt)\n",
    "padded = pad_sequences(seq, maxlen=max_length)\n",
    "pred = best_model.predict(padded)\n",
    "labels = ['business', 'entertainment', 'politics', 'sport', 'tech']\n",
    "\n",
    "print(pred)\n",
    "print(np.argmax(pred))\n",
    "print(labels[np.argmax(pred)])"
   ]
  },
  {
   "cell_type": "code",
   "execution_count": 48,
   "id": "401320b0",
   "metadata": {},
   "outputs": [
    {
     "name": "stdout",
     "output_type": "stream",
     "text": [
      "\u001b[1m1/1\u001b[0m \u001b[32m━━━━━━━━━━━━━━━━━━━━\u001b[0m\u001b[37m\u001b[0m \u001b[1m0s\u001b[0m 24ms/step\n",
      "[[3.5141531e-04 9.9455452e-01 5.3076699e-05 3.8568871e-04 4.6553453e-03]]\n",
      "1\n",
      "entertainment\n"
     ]
    }
   ],
   "source": [
    "txt = [df['text'][4]]\n",
    "\n",
    "seq = sentences_tokenizer.texts_to_sequences(txt)\n",
    "padded = pad_sequences(seq, maxlen=max_length)\n",
    "pred = best_model.predict(padded)\n",
    "labels = ['business', 'entertainment', 'politics', 'sport', 'tech']\n",
    "\n",
    "print(pred)\n",
    "print(np.argmax(pred))\n",
    "print(labels[np.argmax(pred)])"
   ]
  },
  {
   "cell_type": "code",
   "execution_count": 86,
   "id": "31de266e",
   "metadata": {},
   "outputs": [
    {
     "data": {
      "text/html": [
       "<div>\n",
       "<style scoped>\n",
       "    .dataframe tbody tr th:only-of-type {\n",
       "        vertical-align: middle;\n",
       "    }\n",
       "\n",
       "    .dataframe tbody tr th {\n",
       "        vertical-align: top;\n",
       "    }\n",
       "\n",
       "    .dataframe thead th {\n",
       "        text-align: right;\n",
       "    }\n",
       "</style>\n",
       "<table border=\"1\" class=\"dataframe\">\n",
       "  <thead>\n",
       "    <tr style=\"text-align: right;\">\n",
       "      <th></th>\n",
       "      <th>category</th>\n",
       "      <th>text</th>\n",
       "      <th>char_count</th>\n",
       "    </tr>\n",
       "  </thead>\n",
       "  <tbody>\n",
       "    <tr>\n",
       "      <th>0</th>\n",
       "      <td>tech</td>\n",
       "      <td>tv future in the hands of viewers with home th...</td>\n",
       "      <td>4333</td>\n",
       "    </tr>\n",
       "    <tr>\n",
       "      <th>1</th>\n",
       "      <td>business</td>\n",
       "      <td>worldcom boss  left books alone  former worldc...</td>\n",
       "      <td>1842</td>\n",
       "    </tr>\n",
       "    <tr>\n",
       "      <th>2</th>\n",
       "      <td>sport</td>\n",
       "      <td>tigers wary of farrell  gamble  leicester say ...</td>\n",
       "      <td>1342</td>\n",
       "    </tr>\n",
       "    <tr>\n",
       "      <th>3</th>\n",
       "      <td>sport</td>\n",
       "      <td>yeading face newcastle in fa cup premiership s...</td>\n",
       "      <td>2176</td>\n",
       "    </tr>\n",
       "    <tr>\n",
       "      <th>4</th>\n",
       "      <td>entertainment</td>\n",
       "      <td>ocean s twelve raids box office ocean s twelve...</td>\n",
       "      <td>1579</td>\n",
       "    </tr>\n",
       "    <tr>\n",
       "      <th>...</th>\n",
       "      <td>...</td>\n",
       "      <td>...</td>\n",
       "      <td>...</td>\n",
       "    </tr>\n",
       "    <tr>\n",
       "      <th>2220</th>\n",
       "      <td>business</td>\n",
       "      <td>cars pull down us retail figures us retail sal...</td>\n",
       "      <td>1745</td>\n",
       "    </tr>\n",
       "    <tr>\n",
       "      <th>2221</th>\n",
       "      <td>politics</td>\n",
       "      <td>kilroy unveils immigration policy ex-chatshow ...</td>\n",
       "      <td>955</td>\n",
       "    </tr>\n",
       "    <tr>\n",
       "      <th>2222</th>\n",
       "      <td>entertainment</td>\n",
       "      <td>rem announce new glasgow concert us band rem h...</td>\n",
       "      <td>1648</td>\n",
       "    </tr>\n",
       "    <tr>\n",
       "      <th>2223</th>\n",
       "      <td>politics</td>\n",
       "      <td>how political squabbles snowball it s become c...</td>\n",
       "      <td>4684</td>\n",
       "    </tr>\n",
       "    <tr>\n",
       "      <th>2224</th>\n",
       "      <td>sport</td>\n",
       "      <td>souness delight at euro progress boss graeme s...</td>\n",
       "      <td>1167</td>\n",
       "    </tr>\n",
       "  </tbody>\n",
       "</table>\n",
       "<p>2225 rows × 3 columns</p>\n",
       "</div>"
      ],
      "text/plain": [
       "           category                                               text  \\\n",
       "0              tech  tv future in the hands of viewers with home th...   \n",
       "1          business  worldcom boss  left books alone  former worldc...   \n",
       "2             sport  tigers wary of farrell  gamble  leicester say ...   \n",
       "3             sport  yeading face newcastle in fa cup premiership s...   \n",
       "4     entertainment  ocean s twelve raids box office ocean s twelve...   \n",
       "...             ...                                                ...   \n",
       "2220       business  cars pull down us retail figures us retail sal...   \n",
       "2221       politics  kilroy unveils immigration policy ex-chatshow ...   \n",
       "2222  entertainment  rem announce new glasgow concert us band rem h...   \n",
       "2223       politics  how political squabbles snowball it s become c...   \n",
       "2224          sport  souness delight at euro progress boss graeme s...   \n",
       "\n",
       "      char_count  \n",
       "0           4333  \n",
       "1           1842  \n",
       "2           1342  \n",
       "3           2176  \n",
       "4           1579  \n",
       "...          ...  \n",
       "2220        1745  \n",
       "2221         955  \n",
       "2222        1648  \n",
       "2223        4684  \n",
       "2224        1167  \n",
       "\n",
       "[2225 rows x 3 columns]"
      ]
     },
     "execution_count": 86,
     "metadata": {},
     "output_type": "execute_result"
    }
   ],
   "source": [
    "df"
   ]
  }
 ],
 "metadata": {
  "kernelspec": {
   "display_name": "Python 3",
   "language": "python",
   "name": "python3"
  },
  "language_info": {
   "codemirror_mode": {
    "name": "ipython",
    "version": 3
   },
   "file_extension": ".py",
   "mimetype": "text/x-python",
   "name": "python",
   "nbconvert_exporter": "python",
   "pygments_lexer": "ipython3",
   "version": "3.12.6"
  }
 },
 "nbformat": 4,
 "nbformat_minor": 5
}
